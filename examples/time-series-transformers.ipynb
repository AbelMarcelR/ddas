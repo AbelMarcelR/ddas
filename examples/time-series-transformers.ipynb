{
  "cells": [
    {
      "cell_type": "code",
      "source": [
        "import torch\n",
        "import torch.nn as nn\n",
        "import torch.nn.functional as F\n",
        "import torch.optim as optim\n",
        "import matplotlib.pyplot as plt\n",
        "import numpy as np\n",
        "import pandas as pd\n",
        "import joblib\n",
        "from sklearn.preprocessing import MinMaxScaler\n",
        "from sklearn.preprocessing import StandardScaler\n",
        "from sklearn.model_selection import train_test_split\n",
        "from torch.utils.data import Dataset, DataLoader\n",
        "from sample_data.tst_model import TST"
      ],
      "metadata": {
        "id": "f4buEaac8di1"
      },
      "id": "f4buEaac8di1",
      "execution_count": 1,
      "outputs": []
    },
    {
      "cell_type": "code",
      "source": [
        "# Load dataset\n",
        "df = pd.read_csv('/content/sample_data/BTCUSD5.csv', encoding='utf-8', sep=r';', engine='python', quotechar='\"')\n",
        "df.columns = ['Date', 'Time', 'Open', 'High', 'Low', 'Close', 'Volume']\n",
        "df['Date'] = pd.to_datetime(df['Date'].str.replace(r'^\"|\"$', '', regex=True).str.strip(), format='%Y.%m.%d', errors='coerce')"
      ],
      "metadata": {
        "id": "mR_aYilO9Vie"
      },
      "id": "mR_aYilO9Vie",
      "execution_count": 2,
      "outputs": []
    },
    {
      "cell_type": "code",
      "source": [
        "\n",
        "# Konversi kolom DateTime ke tipe datetime, lalu jadikan index\n",
        "df.set_index('Date', inplace=True)\n",
        "\n",
        "# Print bossku\n",
        "print(df.head())\n",
        "print(df.dtypes)"
      ],
      "metadata": {
        "id": "_W1SlEbC8ddc",
        "outputId": "8520f597-a3fa-479d-b14d-668901057182",
        "colab": {
          "base_uri": "https://localhost:8080/"
        }
      },
      "id": "_W1SlEbC8ddc",
      "execution_count": 3,
      "outputs": [
        {
          "output_type": "stream",
          "name": "stdout",
          "text": [
            "                      Open   High    Low  Close  Volume\n",
            "Date                                                   \n",
            "2004-06-11 07:15:00  384.0  384.1  384.0  384.0       3\n",
            "2004-06-11 07:20:00  384.1  384.1  383.8  383.8       3\n",
            "2004-06-11 07:25:00  383.8  384.3  383.8  384.3       6\n",
            "2004-06-11 07:30:00  383.8  383.8  383.8  383.8       2\n",
            "2004-06-11 07:35:00  383.8  384.3  383.6  383.8       6\n",
            "Open      float64\n",
            "High      float64\n",
            "Low       float64\n",
            "Close     float64\n",
            "Volume      int64\n",
            "dtype: object\n"
          ]
        }
      ]
    },
    {
      "cell_type": "code",
      "source": [
        "# Jika ingin hanya mengambil kolom OHLC, bisa tambahkan volume dkk\n",
        "ohlc = df[['Open','High','Low','Close']]\n",
        "print(ohlc.head())"
      ],
      "metadata": {
        "id": "TNXIluTP8daQ",
        "outputId": "01345d98-7822-4971-8b88-f665ade3ca84",
        "colab": {
          "base_uri": "https://localhost:8080/"
        }
      },
      "id": "TNXIluTP8daQ",
      "execution_count": 4,
      "outputs": [
        {
          "output_type": "stream",
          "name": "stdout",
          "text": [
            "                      Open   High    Low  Close\n",
            "Date                                           \n",
            "2004-06-11 07:15:00  384.0  384.1  384.0  384.0\n",
            "2004-06-11 07:20:00  384.1  384.1  383.8  383.8\n",
            "2004-06-11 07:25:00  383.8  384.3  383.8  384.3\n",
            "2004-06-11 07:30:00  383.8  383.8  383.8  383.8\n",
            "2004-06-11 07:35:00  383.8  384.3  383.6  383.8\n"
          ]
        }
      ]
    },
    {
      "cell_type": "code",
      "source": [
        "scaler = MinMaxScaler()\n",
        "ohlc_scaled = scaler.fit_transform(ohlc)\n",
        "print(\"Contoh hasil normalisasi:\", ohlc_scaled[:3])"
      ],
      "metadata": {
        "id": "tDW231uH9-_k",
        "outputId": "5673866f-4772-43b2-8ce2-a74cfe14040d",
        "colab": {
          "base_uri": "https://localhost:8080/"
        }
      },
      "id": "tDW231uH9-_k",
      "execution_count": 5,
      "outputs": [
        {
          "output_type": "stream",
          "name": "stdout",
          "text": [
            "Contoh hasil normalisasi: [[0.00093059 0.00089783 0.00093156 0.00086647]\n",
            " [0.00096268 0.00089783 0.00086731 0.00080228]\n",
            " [0.00086641 0.00096196 0.00086731 0.00096274]]\n"
          ]
        }
      ]
    },
    {
      "cell_type": "code",
      "source": [
        "# from google.colab import drive\n",
        "# drive.mount('/content/drive')"
      ],
      "metadata": {
        "id": "0MXd7PAzcBzo"
      },
      "id": "0MXd7PAzcBzo",
      "execution_count": 6,
      "outputs": []
    },
    {
      "cell_type": "code",
      "source": [
        "def create_multistep_dataset(data, window_size=24, steps_ahead=5):\n",
        "    X, y = [], []\n",
        "    for i in range(len(data) - window_size - steps_ahead):\n",
        "        X.append(data[i:i + window_size])\n",
        "        y.append(data[i + window_size:i + window_size + steps_ahead])\n",
        "    return np.array(X), np.array(y)"
      ],
      "metadata": {
        "id": "jIQ1b4CJ9_Cc"
      },
      "id": "jIQ1b4CJ9_Cc",
      "execution_count": 7,
      "outputs": []
    },
    {
      "cell_type": "code",
      "source": [
        "window_size = 24     # 1 jam (jika data pakai dataset usdchfm5)\n",
        "steps_ahead = 5      # prediksi 5 bar ke depan 5x5menit = 25 menit"
      ],
      "metadata": {
        "id": "3_Ps8Wqp9_E4"
      },
      "id": "3_Ps8Wqp9_E4",
      "execution_count": 8,
      "outputs": []
    },
    {
      "cell_type": "code",
      "source": [
        "X, y = create_multistep_dataset(ohlc_scaled, window_size, steps_ahead)\n",
        "print(\"X shape:\", X.shape)  # (samples, 12, 4) 12 timestep dengan 4 fitur dataset OHLC gacor\n",
        "print(\"y shape:\", y.shape)  # (samples, 5, 4) 5 timestep prediksi ahead dengan4 fitur dataset OHLC gacor"
      ],
      "metadata": {
        "id": "VZCREuA39_H1",
        "outputId": "6a8842e9-08e4-42d2-ca54-feb6beb617ef",
        "colab": {
          "base_uri": "https://localhost:8080/"
        }
      },
      "id": "VZCREuA39_H1",
      "execution_count": 9,
      "outputs": [
        {
          "output_type": "stream",
          "name": "stdout",
          "text": [
            "X shape: (1397310, 24, 4)\n",
            "y shape: (1397310, 5, 4)\n"
          ]
        }
      ]
    },
    {
      "cell_type": "code",
      "source": [
        "# Split train-test tanpa shuffle (biar tetap urutan waktu)\n",
        "X_train, X_test, y_train, y_test = train_test_split(X, y, test_size=0.2, shuffle=False)"
      ],
      "metadata": {
        "id": "Shv0QuHT9_KY"
      },
      "id": "Shv0QuHT9_KY",
      "execution_count": 10,
      "outputs": []
    },
    {
      "cell_type": "code",
      "source": [
        "print(\"X_train shape:\", X_train.shape)\n",
        "print(\"y_train shape:\", y_train.shape)\n",
        "print(\"X_test shape :\", X_test.shape)\n",
        "print(\"y_test shape :\", y_test.shape)"
      ],
      "metadata": {
        "id": "03vsU-hf9_Mk",
        "outputId": "b90b6a37-9de6-405e-d28b-71f43d624d16",
        "colab": {
          "base_uri": "https://localhost:8080/"
        }
      },
      "id": "03vsU-hf9_Mk",
      "execution_count": 11,
      "outputs": [
        {
          "output_type": "stream",
          "name": "stdout",
          "text": [
            "X_train shape: (1117848, 24, 4)\n",
            "y_train shape: (1117848, 5, 4)\n",
            "X_test shape : (279462, 24, 4)\n",
            "y_test shape : (279462, 5, 4)\n"
          ]
        }
      ]
    },
    {
      "cell_type": "code",
      "source": [
        "\n",
        "\n",
        "class OHLCMultiStepDataset(Dataset):\n",
        "    def __init__(self, X, y):\n",
        "        self.X = torch.tensor(X, dtype=torch.float32)\n",
        "        self.y = torch.tensor(y, dtype=torch.float32)\n",
        "\n",
        "    def __len__(self):\n",
        "        return len(self.X)\n",
        "\n",
        "    def __getitem__(self, idx):\n",
        "        return self.X[idx], self.y[idx]\n",
        "\n",
        "train_dataset = OHLCMultiStepDataset(X_train, y_train)\n",
        "test_dataset = OHLCMultiStepDataset(X_test, y_test)\n",
        "\n",
        "train_loader = DataLoader(train_dataset, batch_size=64, shuffle=True)\n",
        "test_loader = DataLoader(test_dataset, batch_size=64, shuffle=False)\n"
      ],
      "metadata": {
        "id": "gV_ZHjDm8dXY"
      },
      "id": "gV_ZHjDm8dXY",
      "execution_count": 12,
      "outputs": []
    },
    {
      "cell_type": "code",
      "source": [
        "# Ambil satu batch dari train_loader\n",
        "for X_batch, y_batch in train_loader:\n",
        "    print(\"X_batch shape:\", X_batch.shape)\n",
        "    print(\"y_batch shape:\", y_batch.shape)\n",
        "    print(\"Contoh X_batch[0]:\\n\", X_batch[0])\n",
        "    print(\"Contoh y_batch[0]:\\n\", y_batch[0])\n",
        "    break  # supaya hanya print 1 batch\n"
      ],
      "metadata": {
        "id": "nXhosNbl8dS7",
        "outputId": "393c74e1-837b-4843-ba29-743b6219e9c8",
        "colab": {
          "base_uri": "https://localhost:8080/"
        }
      },
      "id": "nXhosNbl8dS7",
      "execution_count": 13,
      "outputs": [
        {
          "output_type": "stream",
          "name": "stdout",
          "text": [
            "X_batch shape: torch.Size([64, 24, 4])\n",
            "y_batch shape: torch.Size([64, 5, 4])\n",
            "Contoh X_batch[0]:\n",
            " tensor([[0.2757, 0.2754, 0.2757, 0.2754],\n",
            "        [0.2755, 0.2753, 0.2756, 0.2753],\n",
            "        [0.2754, 0.2752, 0.2757, 0.2754],\n",
            "        [0.2754, 0.2752, 0.2756, 0.2754],\n",
            "        [0.2754, 0.2752, 0.2757, 0.2754],\n",
            "        [0.2755, 0.2752, 0.2757, 0.2754],\n",
            "        [0.2754, 0.2752, 0.2757, 0.2753],\n",
            "        [0.2752, 0.2750, 0.2754, 0.2752],\n",
            "        [0.2752, 0.2750, 0.2754, 0.2751],\n",
            "        [0.2751, 0.2749, 0.2753, 0.2750],\n",
            "        [0.2750, 0.2750, 0.2753, 0.2751],\n",
            "        [0.2752, 0.2750, 0.2754, 0.2752],\n",
            "        [0.2753, 0.2751, 0.2755, 0.2753],\n",
            "        [0.2753, 0.2750, 0.2754, 0.2751],\n",
            "        [0.2751, 0.2749, 0.2754, 0.2751],\n",
            "        [0.2751, 0.2749, 0.2754, 0.2750],\n",
            "        [0.2751, 0.2749, 0.2754, 0.2751],\n",
            "        [0.2752, 0.2750, 0.2754, 0.2751],\n",
            "        [0.2752, 0.2751, 0.2754, 0.2753],\n",
            "        [0.2753, 0.2751, 0.2755, 0.2752],\n",
            "        [0.2752, 0.2750, 0.2755, 0.2752],\n",
            "        [0.2752, 0.2750, 0.2754, 0.2752],\n",
            "        [0.2753, 0.2751, 0.2755, 0.2753],\n",
            "        [0.2754, 0.2752, 0.2757, 0.2754]])\n",
            "Contoh y_batch[0]:\n",
            " tensor([[0.2754, 0.2751, 0.2756, 0.2753],\n",
            "        [0.2753, 0.2751, 0.2756, 0.2753],\n",
            "        [0.2754, 0.2751, 0.2756, 0.2753],\n",
            "        [0.2754, 0.2752, 0.2757, 0.2754],\n",
            "        [0.2754, 0.2752, 0.2757, 0.2754]])\n"
          ]
        }
      ]
    },
    {
      "cell_type": "code",
      "source": [
        "device = torch.device(\"cuda\" if torch.cuda.is_available() else \"cpu\")\n",
        "\n",
        "model = TST(c_in=4, c_out=5*4, seq_len=24).to(device)  # pastikan output 20\n",
        "criterion = nn.MSELoss()\n",
        "optimizer = optim.Adam(model.parameters(), lr=1e-5)\n",
        "print(model)\n",
        "\n",
        "\n",
        "# TST(\n",
        "#     c_in=4,\n",
        "#     c_out=5*4,\n",
        "#     seq_len=12,\n",
        "#     d_model=128,           # Dimensi embedding / representasi\n",
        "#     n_heads=8,             # Jumlah attention head\n",
        "#     d_k=16, d_v=16,        # Dimensi masing-masing head (opsional)\n",
        "#     n_layers=3,            # Jumlah encoder layer\n",
        "#     d_ff=256,              # Ukuran hidden layer pada feedforward\n",
        "#     dropout=0.1,           # Dropout seluruh network\n",
        "#     fc_dropout=0.0,        # Dropout pada final dense layer\n",
        "#     act=\"gelu\",            # Fungsi aktivasi (bisa diganti 'relu')\n",
        "#     y_range=None,          # Bisa pakai range sigmoid output (contoh: (0,1))\n",
        "# )\n"
      ],
      "metadata": {
        "id": "ApXqn4No8dPY",
        "outputId": "5eca5982-9c9c-444b-bc25-c64cb76f942f",
        "colab": {
          "base_uri": "https://localhost:8080/"
        }
      },
      "id": "ApXqn4No8dPY",
      "execution_count": 14,
      "outputs": [
        {
          "output_type": "stream",
          "name": "stdout",
          "text": [
            "TST(\n",
            "  (W_P): Linear(in_features=4, out_features=128, bias=True)\n",
            "  (dropout): Dropout(p=0.1, inplace=False)\n",
            "  (encoder): _TSTEncoder(\n",
            "    (layers): ModuleList(\n",
            "      (0-2): 3 x _TSTEncoderLayer(\n",
            "        (self_attn): _MultiHeadAttention(\n",
            "          (W_Q): Linear(in_features=128, out_features=128, bias=False)\n",
            "          (W_K): Linear(in_features=128, out_features=128, bias=False)\n",
            "          (W_V): Linear(in_features=128, out_features=128, bias=False)\n",
            "          (W_O): Linear(in_features=128, out_features=128, bias=False)\n",
            "          (attention): _ScaledDotProductAttention()\n",
            "        )\n",
            "        (dropout_attn): Dropout(p=0.1, inplace=False)\n",
            "        (batchnorm_attn): Sequential(\n",
            "          (0): Transpose()\n",
            "          (1): BatchNorm1d(128, eps=1e-05, momentum=0.1, affine=True, track_running_stats=True)\n",
            "          (2): Transpose()\n",
            "        )\n",
            "        (ff): Sequential(\n",
            "          (0): Linear(in_features=128, out_features=256, bias=True)\n",
            "          (1): GELU(approximate='none')\n",
            "          (2): Dropout(p=0.1, inplace=False)\n",
            "          (3): Linear(in_features=256, out_features=128, bias=True)\n",
            "        )\n",
            "        (dropout_ffn): Dropout(p=0.1, inplace=False)\n",
            "        (batchnorm_ffn): Sequential(\n",
            "          (0): Transpose()\n",
            "          (1): BatchNorm1d(128, eps=1e-05, momentum=0.1, affine=True, track_running_stats=True)\n",
            "          (2): Transpose()\n",
            "        )\n",
            "      )\n",
            "    )\n",
            "  )\n",
            "  (flatten): Flatten()\n",
            "  (head): Sequential(\n",
            "    (0): GELU(approximate='none')\n",
            "    (1): Flatten()\n",
            "    (2): Linear(in_features=3072, out_features=20, bias=True)\n",
            "  )\n",
            ")\n"
          ]
        }
      ]
    },
    {
      "cell_type": "code",
      "source": [
        "# Model\n",
        "model = TST(c_in=4, c_out=5*4, seq_len=24).to(device)\n"
      ],
      "metadata": {
        "id": "Yd_w8Vvn7z60"
      },
      "id": "Yd_w8Vvn7z60",
      "execution_count": 15,
      "outputs": []
    },
    {
      "cell_type": "code",
      "source": [
        "# Loss dan optimizer\n",
        "criterion = nn.MSELoss()\n",
        "optimizer = optim.Adam(model.parameters(), lr=1e-3)\n",
        "\n"
      ],
      "metadata": {
        "id": "sBd04YH173iX"
      },
      "id": "sBd04YH173iX",
      "execution_count": 16,
      "outputs": []
    },
    {
      "cell_type": "code",
      "source": [
        "# Config manual\n",
        "epochs = 15\n",
        "verbose = True\n",
        "\n",
        "# Tracking loss\n",
        "train_losses = []\n",
        "val_losses = []\n",
        "\n",
        "for epoch in range(1, epochs + 1):\n",
        "    model.train()\n",
        "    total_loss = 0\n",
        "\n",
        "    for X_batch, y_batch in train_loader:\n",
        "        X_batch = X_batch.to(device).permute(0, 2, 1)\n",
        "        y_batch = y_batch.to(device)\n",
        "\n",
        "        optimizer.zero_grad()\n",
        "        output = model(X_batch).view(-1, 5, 4)\n",
        "        loss = criterion(output, y_batch)\n",
        "        loss.backward()\n",
        "        optimizer.step()\n",
        "        total_loss += loss.item()\n",
        "\n",
        "    avg_train_loss = total_loss / len(train_loader)\n",
        "    train_losses.append(avg_train_loss)\n",
        "\n",
        "    # Validation step\n",
        "    model.eval()\n",
        "    total_val_loss = 0\n",
        "    with torch.no_grad():\n",
        "        for X_batch, y_batch in test_loader:\n",
        "            X_batch = X_batch.to(device).permute(0, 2, 1)\n",
        "            y_batch = y_batch.to(device)\n",
        "\n",
        "            output = model(X_batch).view(-1, 5, 4)\n",
        "            val_loss = criterion(output, y_batch)\n",
        "            total_val_loss += val_loss.item()\n",
        "\n",
        "    avg_val_loss = total_val_loss / len(test_loader)\n",
        "    val_losses.append(avg_val_loss)\n",
        "\n",
        "    if verbose:\n",
        "        print(f\"Epoch {epoch:02d}/{epochs} - Train Loss: {avg_train_loss:.6f} - Val Loss: {avg_val_loss:.6f}\")\n"
      ],
      "metadata": {
        "id": "XDbhPyAU-YUD",
        "outputId": "990fd30f-96a0-4189-c503-9e8f4c074c89",
        "colab": {
          "base_uri": "https://localhost:8080/"
        }
      },
      "id": "XDbhPyAU-YUD",
      "execution_count": 17,
      "outputs": [
        {
          "output_type": "stream",
          "name": "stdout",
          "text": [
            "Epoch 01/15 - Train Loss: 0.000832 - Val Loss: 0.002134\n",
            "Epoch 02/15 - Train Loss: 0.000273 - Val Loss: 0.000858\n",
            "Epoch 03/15 - Train Loss: 0.000274 - Val Loss: 0.006366\n",
            "Epoch 04/15 - Train Loss: 0.000215 - Val Loss: 0.008043\n",
            "Epoch 05/15 - Train Loss: 0.000278 - Val Loss: 0.020164\n",
            "Epoch 06/15 - Train Loss: 0.000283 - Val Loss: 0.002549\n",
            "Epoch 07/15 - Train Loss: 0.000159 - Val Loss: 0.008973\n",
            "Epoch 08/15 - Train Loss: 0.000150 - Val Loss: 0.025558\n",
            "Epoch 09/15 - Train Loss: 0.000150 - Val Loss: 0.014076\n",
            "Epoch 10/15 - Train Loss: 0.000160 - Val Loss: 0.014734\n",
            "Epoch 11/15 - Train Loss: 0.000123 - Val Loss: 0.003075\n",
            "Epoch 12/15 - Train Loss: 0.000291 - Val Loss: 0.010456\n",
            "Epoch 13/15 - Train Loss: 0.000472 - Val Loss: 0.004848\n",
            "Epoch 14/15 - Train Loss: 0.000089 - Val Loss: 0.003517\n",
            "Epoch 15/15 - Train Loss: 0.000063 - Val Loss: 0.030122\n"
          ]
        }
      ]
    },
    {
      "cell_type": "code",
      "source": [
        "plt.figure(figsize=(10, 6))\n",
        "plt.plot(train_losses, label='Train Loss')\n",
        "plt.plot(val_losses, label='Validation Loss')\n",
        "plt.title('Training and Validation Loss per Epoch')\n",
        "plt.xlabel('Epoch')\n",
        "plt.ylabel('Loss (MSE)')\n",
        "plt.grid(True)\n",
        "plt.legend()\n",
        "plt.tight_layout()\n",
        "plt.show()\n"
      ],
      "metadata": {
        "id": "5P_kWnU0-YXW",
        "outputId": "48517290-44a2-4166-e9b6-47d21efb17f9",
        "colab": {
          "base_uri": "https://localhost:8080/",
          "height": 433
        }
      },
      "id": "5P_kWnU0-YXW",
      "execution_count": 18,
      "outputs": [
        {
          "output_type": "display_data",
          "data": {
            "text/plain": [
              "<Figure size 1000x600 with 1 Axes>"
            ],
            "image/png": "[encoded data removed]"
          },
          "metadata": {}
        }
      ]
    },
    {
      "cell_type": "code",
      "source": [
        "#Mclarenlu warna apa bos?\n",
        "torch.save(model.state_dict(), \"tst_GOLD5_24Timestep.pt\")\n",
        "print(\"Model saved to 'tst_ohlc_model.pt'\")\n"
      ],
      "metadata": {
        "id": "dQCSwikE-YaR",
        "outputId": "3d0d141b-9587-496d-c15d-6928dd8a4a2c",
        "colab": {
          "base_uri": "https://localhost:8080/"
        }
      },
      "id": "dQCSwikE-YaR",
      "execution_count": 19,
      "outputs": [
        {
          "output_type": "stream",
          "name": "stdout",
          "text": [
            "Model saved to 'tst_ohlc_model.pt'\n"
          ]
        }
      ]
    },
    {
      "cell_type": "code",
      "source": [
        "# Ambil satu sample dari test set\n",
        "sample_input = X_test[0]  # shape: (12, 4)\n",
        "sample_input = torch.tensor(sample_input, dtype=torch.float32).unsqueeze(0)  # (1, 12, 4)\n",
        "sample_input = sample_input.permute(0, 2, 1).to(device)  # jadi (1, 4, 12)\n",
        "\n",
        "# Load model dan jalankan prediksi\n",
        "model.eval()\n",
        "with torch.no_grad():\n",
        "    output = model(sample_input).view(-1, 5, 4).cpu().numpy()  # (1, 5, 4) → (5, 4)\n",
        "\n",
        "# Tampilkan hasil prediksi\n",
        "print(\"Hasil prediksi 5 langkah ke depan (Open, High, Low, Close):\")\n",
        "print(output[0])  # prediksi untuk langkah ke-1\n",
        "print(output)     # semua 5 langkah"
      ],
      "metadata": {
        "id": "xFQD1rV1-h_b",
        "outputId": "1a3239a4-de8c-4562-a867-81586fbacd07",
        "colab": {
          "base_uri": "https://localhost:8080/"
        }
      },
      "id": "xFQD1rV1-h_b",
      "execution_count": 20,
      "outputs": [
        {
          "output_type": "stream",
          "name": "stdout",
          "text": [
            "Hasil prediksi 5 langkah ke depan (Open, High, Low, Close):\n",
            "[[0.43869925 0.4384909  0.43890494 0.43859652]\n",
            " [0.43864295 0.4384942  0.4388628  0.43857133]\n",
            " [0.438617   0.43847996 0.4388969  0.43861824]\n",
            " [0.43866473 0.43859816 0.43896967 0.438779  ]\n",
            " [0.438816   0.43870825 0.4390081  0.4387719 ]]\n",
            "[[[0.43869925 0.4384909  0.43890494 0.43859652]\n",
            "  [0.43864295 0.4384942  0.4388628  0.43857133]\n",
            "  [0.438617   0.43847996 0.4388969  0.43861824]\n",
            "  [0.43866473 0.43859816 0.43896967 0.438779  ]\n",
            "  [0.438816   0.43870825 0.4390081  0.4387719 ]]]\n"
          ]
        }
      ]
    },
    {
      "cell_type": "code",
      "source": [],
      "metadata": {
        "id": "DWIX_m66-Yc2"
      },
      "id": "DWIX_m66-Yc2",
      "execution_count": 20,
      "outputs": []
    }
  ],
  "metadata": {
    "accelerator": "GPU",
    "colab": {
      "provenance": []
    },
    "gpuClass": "standard",
    "kernelspec": {
      "display_name": "Python 3 (ipykernel)",
      "language": "python",
      "name": "python3"
    },
    "language_info": {
      "codemirror_mode": {
        "name": "ipython",
        "version": 3
      },
      "file_extension": ".py",
      "mimetype": "text/x-python",
      "name": "python",
      "nbconvert_exporter": "python",
      "pygments_lexer": "ipython3",
      "version": "3.11.6"
    }
  },
  "nbformat": 4,
  "nbformat_minor": 5
}