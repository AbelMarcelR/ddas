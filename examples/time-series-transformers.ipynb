{
  "cells": [
    {
      "cell_type": "code",
      "source": [
        "import pandas as pd\n",
        "import numpy as np\n",
        "from sklearn.preprocessing import QuantileTransformer\n",
        "from scipy.stats import kstest\n",
        "import matplotlib.pyplot as plt"
      ],
      "metadata": {
        "id": "LcIfnpVXh3Yr"
      },
      "id": "LcIfnpVXh3Yr",
      "execution_count": 12,
      "outputs": []
    },
    {
      "cell_type": "code",
      "source": [
        "# Sample dataset\n",
        "data = {\n",
        "    \"Open\": [0.98408, 0.98389, 0.98413, 0.98390, 0.98423],\n",
        "    \"High\": [0.98427, 0.98422, 0.98451, 0.98428, 0.98442],\n",
        "    \"Low\": [0.98359, 0.98355, 0.98363, 0.98370, 0.98406],\n",
        "    \"Close\": [0.98390, 0.98412, 0.98390, 0.98423, 0.98417]\n",
        "}"
      ],
      "metadata": {
        "id": "kWIT2QVhh3WU"
      },
      "id": "kWIT2QVhh3WU",
      "execution_count": 13,
      "outputs": []
    },
    {
      "cell_type": "code",
      "source": [
        "df = pd.DataFrame(data)"
      ],
      "metadata": {
        "id": "UtY3Eap2h3Tj"
      },
      "id": "UtY3Eap2h3Tj",
      "execution_count": 14,
      "outputs": []
    },
    {
      "cell_type": "code",
      "source": [
        "# Pilih kolom 'Close' untuk di-normalisasi\n",
        "close_data = df[\"Close\"].values.reshape(-1, 1)"
      ],
      "metadata": {
        "id": "cD8zObRDh3Qs"
      },
      "id": "cD8zObRDh3Qs",
      "execution_count": 15,
      "outputs": []
    },
    {
      "cell_type": "code",
      "source": [
        "# Step 1: Transformasi ke distribusi normal menggunakan QuantileTransformer\n",
        "quantile_transformer = QuantileTransformer(output_distribution='normal', random_state=42)\n",
        "normalized_close = quantile_transformer.fit_transform(close_data)"
      ],
      "metadata": {
        "id": "hKdgTn5gh3Nv",
        "outputId": "748107d0-31c9-4544-a429-8ee6950e4c8e",
        "colab": {
          "base_uri": "https://localhost:8080/"
        }
      },
      "id": "hKdgTn5gh3Nv",
      "execution_count": 16,
      "outputs": [
        {
          "output_type": "stream",
          "name": "stderr",
          "text": [
            "/usr/local/lib/python3.11/dist-packages/sklearn/preprocessing/_data.py:2829: UserWarning: n_quantiles (1000) is greater than the total number of samples (5). n_quantiles is set to n_samples.\n",
            "  warnings.warn(\n"
          ]
        }
      ]
    },
    {
      "cell_type": "code",
      "source": [
        "# Step 2: Verifikasi dengan K-S Test\n",
        "mean, std = normalized_close.mean(), normalized_close.std()\n",
        "statistic, p_value = kstest(normalized_close, 'norm', args=(mean, std))\n",
        "print(f\"K-S Statistic: {statistic}, p-value: {p_value}\")"
      ],
      "metadata": {
        "id": "RhyMlg4Eh3K4",
        "outputId": "e0516a95-e8f9-491a-b321-119289904f45",
        "colab": {
          "base_uri": "https://localhost:8080/"
        }
      },
      "id": "RhyMlg4Eh3K4",
      "execution_count": 17,
      "outputs": [
        {
          "output_type": "stream",
          "name": "stdout",
          "text": [
            "K-S Statistic: [0.26237593], p-value: [0.80432333]\n"
          ]
        }
      ]
    },
    {
      "cell_type": "code",
      "source": [
        "# Step 3: Plot hasil transformasi\n",
        "plt.figure(figsize=(10, 6))\n"
      ],
      "metadata": {
        "id": "GJlgzjeniGdc",
        "outputId": "fd0af949-96cb-4b77-bc9c-919a92229be2",
        "colab": {
          "base_uri": "https://localhost:8080/",
          "height": 52
        }
      },
      "id": "GJlgzjeniGdc",
      "execution_count": 22,
      "outputs": [
        {
          "output_type": "execute_result",
          "data": {
            "text/plain": [
              "<Figure size 1000x600 with 0 Axes>"
            ]
          },
          "metadata": {},
          "execution_count": 22
        },
        {
          "output_type": "display_data",
          "data": {
            "text/plain": [
              "<Figure size 1000x600 with 0 Axes>"
            ]
          },
          "metadata": {}
        }
      ]
    },
    {
      "cell_type": "code",
      "source": [
        "# Histogram sebelum transformasi\n",
        "plt.subplot(1, 2, 1)\n",
        "plt.hist(close_data, bins=10, density=True, alpha=0.6, color='b', label='Before Transformation')\n",
        "plt.title(\"Histogram Sebelum Transformasi\")\n",
        "plt.xlabel(\"Nilai Close\")\n",
        "plt.ylabel(\"Frekuensi\")\n"
      ],
      "metadata": {
        "id": "Geg4LeNYiGgI",
        "outputId": "50bf63b6-7707-4366-b87e-85fa81e29655",
        "colab": {
          "base_uri": "https://localhost:8080/",
          "height": 489
        }
      },
      "id": "Geg4LeNYiGgI",
      "execution_count": 19,
      "outputs": [
        {
          "output_type": "execute_result",
          "data": {
            "text/plain": [
              "Text(0, 0.5, 'Frekuensi')"
            ]
          },
          "metadata": {},
          "execution_count": 19
        },
        {
          "output_type": "display_data",
          "data": {
            "text/plain": [
              "<Figure size 640x480 with 1 Axes>"
            ],
            "image/png": "[encoded data removed]"
          },
          "metadata": {}
        }
      ]
    },
    {
      "cell_type": "code",
      "source": [
        "# Histogram setelah transformasi\n",
        "plt.subplot(1, 2, 2)\n",
        "plt.hist(normalized_close, bins=10, density=True, alpha=0.6, color='r', label='After Transformation')\n",
        "plt.title(\"Histogram Setelah Transformasi\")\n",
        "plt.xlabel(\"Nilai Close (Normalized)\")\n",
        "plt.ylabel(\"Frekuensi\")\n",
        "\n",
        "plt.tight_layout()\n",
        "plt.show()\n"
      ],
      "metadata": {
        "id": "H9snIeuRiGjD",
        "outputId": "0b390482-b2c8-4a0b-ffd3-4dbaa01a4d05",
        "colab": {
          "base_uri": "https://localhost:8080/",
          "height": 487
        }
      },
      "id": "H9snIeuRiGjD",
      "execution_count": 20,
      "outputs": [
        {
          "output_type": "display_data",
          "data": {
            "text/plain": [
              "<Figure size 640x480 with 1 Axes>"
            ],
            "image/png": "[encoded data removed]"
          },
          "metadata": {}
        }
      ]
    },
    {
      "cell_type": "code",
      "source": [
        "# Tampilkan hasil transformasi\n",
        "print(\"\\nData Normalized:\")\n",
        "print(normalized_close)"
      ],
      "metadata": {
        "id": "MD35b-02iGmA",
        "outputId": "61fcac13-e430-400f-abea-60d7666eafb9",
        "colab": {
          "base_uri": "https://localhost:8080/"
        }
      },
      "id": "MD35b-02iGmA",
      "execution_count": 21,
      "outputs": [
        {
          "output_type": "stream",
          "name": "stdout",
          "text": [
            "\n",
            "Data Normalized:\n",
            "[[-5.19933758]\n",
            " [ 0.        ]\n",
            " [-5.19933758]\n",
            " [ 5.19933758]\n",
            " [ 0.67448975]]\n"
          ]
        }
      ]
    },
    {
      "cell_type": "code",
      "source": [],
      "metadata": {
        "id": "6QJmw5yqiGoz"
      },
      "id": "6QJmw5yqiGoz",
      "execution_count": 21,
      "outputs": []
    },
    {
      "cell_type": "code",
      "source": [],
      "metadata": {
        "id": "V0AyHOiqiGrx"
      },
      "id": "V0AyHOiqiGrx",
      "execution_count": 21,
      "outputs": []
    },
    {
      "cell_type": "code",
      "source": [],
      "metadata": {
        "id": "j3UCScMpiGua"
      },
      "id": "j3UCScMpiGua",
      "execution_count": 21,
      "outputs": []
    }
  ],
  "metadata": {
    "accelerator": "GPU",
    "colab": {
      "provenance": []
    },
    "gpuClass": "standard",
    "kernelspec": {
      "display_name": "Python 3 (ipykernel)",
      "language": "python",
      "name": "python3"
    },
    "language_info": {
      "codemirror_mode": {
        "name": "ipython",
        "version": 3
      },
      "file_extension": ".py",
      "mimetype": "text/x-python",
      "name": "python",
      "nbconvert_exporter": "python",
      "pygments_lexer": "ipython3",
      "version": "3.11.6"
    }
  },
  "nbformat": 4,
  "nbformat_minor": 5
}