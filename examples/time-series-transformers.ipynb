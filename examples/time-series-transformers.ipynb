{
  "cells": [
    {
      "cell_type": "code",
      "source": [
        "import torch\n",
        "import torch.nn as nn\n",
        "import torch.nn.functional as F\n",
        "import torch.optim as optim\n",
        "import matplotlib.pyplot as plt\n",
        "import numpy as np\n",
        "import pandas as pd\n",
        "import joblib\n",
        "from sklearn.preprocessing import MinMaxScaler\n",
        "from sklearn.model_selection import train_test_split\n",
        "from torch.utils.data import Dataset, DataLoader\n",
        "from sample_data.tst_model import TST"
      ],
      "metadata": {
        "id": "f4buEaac8di1"
      },
      "id": "f4buEaac8di1",
      "execution_count": 54,
      "outputs": []
    },
    {
      "cell_type": "code",
      "source": [
        "# Load dataset\n",
        "df = pd.read_csv('/content/sample_data/USDCHFM5.csv', encoding='utf-16', sep=r'\\s*,\\s*', engine='python', quotechar='\"')\n",
        "df.columns = ['Date', 'Open', 'High', 'Low', 'Close', 'Volume', 'Extra']\n",
        "df['Date'] = pd.to_datetime(df['Date'].str.replace(r'^\"|\"$', '', regex=True).str.strip(), format='%Y.%m.%d %H:%M', errors='coerce')"
      ],
      "metadata": {
        "id": "mR_aYilO9Vie"
      },
      "id": "mR_aYilO9Vie",
      "execution_count": 55,
      "outputs": []
    },
    {
      "cell_type": "code",
      "source": [
        "\n",
        "# Konversi kolom DateTime ke tipe datetime, lalu jadikan index\n",
        "df.set_index('Date', inplace=True)\n",
        "\n",
        "# Print bossku\n",
        "print(df.head())\n",
        "print(df.dtypes)"
      ],
      "metadata": {
        "id": "_W1SlEbC8ddc",
        "outputId": "b537d226-9761-4ae0-8564-3ae9cd555b97",
        "colab": {
          "base_uri": "https://localhost:8080/"
        }
      },
      "id": "_W1SlEbC8ddc",
      "execution_count": 56,
      "outputs": [
        {
          "output_type": "stream",
          "name": "stdout",
          "text": [
            "                        Open     High      Low    Close  Volume  Extra\n",
            "Date                                                                  \n",
            "2022-07-12 09:20:00  0.98408  0.98427  0.98359  0.98390     462      0\n",
            "2022-07-12 09:25:00  0.98389  0.98422  0.98355  0.98412     454      0\n",
            "2022-07-12 09:30:00  0.98413  0.98451  0.98363  0.98390     581      0\n",
            "2022-07-12 09:35:00  0.98390  0.98428  0.98370  0.98423     540      0\n",
            "2022-07-12 09:40:00  0.98423  0.98442  0.98406  0.98417     477      0\n",
            "Open      float64\n",
            "High      float64\n",
            "Low       float64\n",
            "Close     float64\n",
            "Volume      int64\n",
            "Extra       int64\n",
            "dtype: object\n"
          ]
        }
      ]
    },
    {
      "cell_type": "code",
      "source": [
        "# Jika ingin hanya mengambil kolom OHLC, bisa tambahkan volume dkk\n",
        "ohlc = df[['Open','High','Low','Close']]\n",
        "print(ohlc.head())"
      ],
      "metadata": {
        "id": "TNXIluTP8daQ",
        "outputId": "91ca8a02-1850-496e-cea7-bfd1cbf4c234",
        "colab": {
          "base_uri": "https://localhost:8080/"
        }
      },
      "id": "TNXIluTP8daQ",
      "execution_count": 57,
      "outputs": [
        {
          "output_type": "stream",
          "name": "stdout",
          "text": [
            "                        Open     High      Low    Close\n",
            "Date                                                   \n",
            "2022-07-12 09:20:00  0.98408  0.98427  0.98359  0.98390\n",
            "2022-07-12 09:25:00  0.98389  0.98422  0.98355  0.98412\n",
            "2022-07-12 09:30:00  0.98413  0.98451  0.98363  0.98390\n",
            "2022-07-12 09:35:00  0.98390  0.98428  0.98370  0.98423\n",
            "2022-07-12 09:40:00  0.98423  0.98442  0.98406  0.98417\n"
          ]
        }
      ]
    },
    {
      "cell_type": "code",
      "source": [
        "scaler = MinMaxScaler(feature_range=(0, 1))\n",
        "ohlc_scaled = scaler.fit_transform(ohlc)\n",
        "print(\"Contoh hasil normalisasi:\", ohlc_scaled[:3])"
      ],
      "metadata": {
        "id": "tDW231uH9-_k",
        "outputId": "6bdb2a0f-2e26-429a-ff96-f73d34d0c864",
        "colab": {
          "base_uri": "https://localhost:8080/"
        }
      },
      "id": "tDW231uH9-_k",
      "execution_count": 58,
      "outputs": [
        {
          "output_type": "stream",
          "name": "stdout",
          "text": [
            "Contoh hasil normalisasi: [[0.80825532 0.80838774 0.80847714 0.80712446]\n",
            " [0.80706163 0.80807383 0.80822522 0.80850663]\n",
            " [0.80856945 0.80989453 0.80872906 0.80712446]]\n"
          ]
        }
      ]
    },
    {
      "cell_type": "code",
      "source": [
        "def create_multistep_dataset(data, window_size=24, steps_ahead=5):\n",
        "    X, y = [], []\n",
        "    for i in range(len(data) - window_size - steps_ahead):\n",
        "        X.append(data[i:i + window_size])\n",
        "        y.append(data[i + window_size:i + window_size + steps_ahead])\n",
        "    return np.array(X), np.array(y)"
      ],
      "metadata": {
        "id": "jIQ1b4CJ9_Cc"
      },
      "id": "jIQ1b4CJ9_Cc",
      "execution_count": 59,
      "outputs": []
    },
    {
      "cell_type": "code",
      "source": [
        "window_size = 24     # 1 jam (jika data pakai dataset usdchfm5)\n",
        "steps_ahead = 5      # prediksi 5 bar ke depan 5x5menit = 25 menit"
      ],
      "metadata": {
        "id": "3_Ps8Wqp9_E4"
      },
      "id": "3_Ps8Wqp9_E4",
      "execution_count": 60,
      "outputs": []
    },
    {
      "cell_type": "code",
      "source": [
        "X, y = create_multistep_dataset(ohlc_scaled, window_size, steps_ahead)\n",
        "print(\"X shape:\", X.shape)  # (samples, 12, 4) 12 timestep dengan 4 fitur dataset OHLC gacor\n",
        "print(\"y shape:\", y.shape)  # (samples, 5, 4) 5 timestep prediksi ahead dengan4 fitur dataset OHLC gacor"
      ],
      "metadata": {
        "id": "VZCREuA39_H1",
        "outputId": "c36557ba-4ea1-4244-b992-e1f8a1e6cf5c",
        "colab": {
          "base_uri": "https://localhost:8080/"
        }
      },
      "id": "VZCREuA39_H1",
      "execution_count": 61,
      "outputs": [
        {
          "output_type": "stream",
          "name": "stdout",
          "text": [
            "X shape: (99985, 24, 4)\n",
            "y shape: (99985, 5, 4)\n"
          ]
        }
      ]
    },
    {
      "cell_type": "code",
      "source": [
        "# Split train-test tanpa shuffle (biar tetap urutan waktu)\n",
        "X_train, X_test, y_train, y_test = train_test_split(X, y, test_size=0.2, shuffle=False)"
      ],
      "metadata": {
        "id": "Shv0QuHT9_KY"
      },
      "id": "Shv0QuHT9_KY",
      "execution_count": 62,
      "outputs": []
    },
    {
      "cell_type": "code",
      "source": [
        "print(\"X_train shape:\", X_train.shape)\n",
        "print(\"y_train shape:\", y_train.shape)\n",
        "print(\"X_test shape :\", X_test.shape)\n",
        "print(\"y_test shape :\", y_test.shape)"
      ],
      "metadata": {
        "id": "03vsU-hf9_Mk",
        "outputId": "85a6a2f5-30fc-48f7-bb50-bd049c1d2393",
        "colab": {
          "base_uri": "https://localhost:8080/"
        }
      },
      "id": "03vsU-hf9_Mk",
      "execution_count": 63,
      "outputs": [
        {
          "output_type": "stream",
          "name": "stdout",
          "text": [
            "X_train shape: (79988, 24, 4)\n",
            "y_train shape: (79988, 5, 4)\n",
            "X_test shape : (19997, 24, 4)\n",
            "y_test shape : (19997, 5, 4)\n"
          ]
        }
      ]
    },
    {
      "cell_type": "code",
      "source": [
        "\n",
        "\n",
        "class OHLCMultiStepDataset(Dataset):\n",
        "    def __init__(self, X, y):\n",
        "        self.X = torch.tensor(X, dtype=torch.float32)\n",
        "        self.y = torch.tensor(y, dtype=torch.float32)\n",
        "\n",
        "    def __len__(self):\n",
        "        return len(self.X)\n",
        "\n",
        "    def __getitem__(self, idx):\n",
        "        return self.X[idx], self.y[idx]\n",
        "\n",
        "train_dataset = OHLCMultiStepDataset(X_train, y_train)\n",
        "test_dataset = OHLCMultiStepDataset(X_test, y_test)\n",
        "\n",
        "train_loader = DataLoader(train_dataset, batch_size=64, shuffle=True)\n",
        "test_loader = DataLoader(test_dataset, batch_size=64, shuffle=False)\n"
      ],
      "metadata": {
        "id": "gV_ZHjDm8dXY"
      },
      "id": "gV_ZHjDm8dXY",
      "execution_count": 64,
      "outputs": []
    },
    {
      "cell_type": "code",
      "source": [
        "# Ambil satu batch dari train_loader\n",
        "for X_batch, y_batch in train_loader:\n",
        "    print(\"X_batch shape:\", X_batch.shape)\n",
        "    print(\"y_batch shape:\", y_batch.shape)\n",
        "    print(\"Contoh X_batch[0]:\\n\", X_batch[0])\n",
        "    print(\"Contoh y_batch[0]:\\n\", y_batch[0])\n",
        "    break  # supaya hanya print 1 batch\n"
      ],
      "metadata": {
        "id": "nXhosNbl8dS7",
        "outputId": "25d37b88-7785-4aad-98b2-8669e3deb10d",
        "colab": {
          "base_uri": "https://localhost:8080/"
        }
      },
      "id": "nXhosNbl8dS7",
      "execution_count": 65,
      "outputs": [
        {
          "output_type": "stream",
          "name": "stdout",
          "text": [
            "X_batch shape: torch.Size([64, 24, 4])\n",
            "y_batch shape: torch.Size([64, 5, 4])\n",
            "Contoh X_batch[0]:\n",
            " tensor([[0.5900, 0.5897, 0.5908, 0.5904],\n",
            "        [0.5904, 0.5907, 0.5891, 0.5867],\n",
            "        [0.5867, 0.5866, 0.5875, 0.5859],\n",
            "        [0.5859, 0.5919, 0.5882, 0.5899],\n",
            "        [0.5900, 0.5917, 0.5919, 0.5905],\n",
            "        [0.5906, 0.5909, 0.5922, 0.5901],\n",
            "        [0.5902, 0.5934, 0.5927, 0.5921],\n",
            "        [0.5921, 0.5925, 0.5931, 0.5906],\n",
            "        [0.5907, 0.5906, 0.5898, 0.5880],\n",
            "        [0.5880, 0.5883, 0.5887, 0.5886],\n",
            "        [0.5886, 0.5881, 0.5879, 0.5871],\n",
            "        [0.5870, 0.5863, 0.5853, 0.5826],\n",
            "        [0.5825, 0.5834, 0.5835, 0.5835],\n",
            "        [0.5835, 0.5826, 0.5827, 0.5825],\n",
            "        [0.5829, 0.5832, 0.5840, 0.5835],\n",
            "        [0.5836, 0.5861, 0.5850, 0.5869],\n",
            "        [0.5870, 0.5874, 0.5872, 0.5873],\n",
            "        [0.5874, 0.5881, 0.5891, 0.5874],\n",
            "        [0.5874, 0.5877, 0.5865, 0.5847],\n",
            "        [0.5848, 0.5854, 0.5856, 0.5857],\n",
            "        [0.5856, 0.5851, 0.5849, 0.5830],\n",
            "        [0.5830, 0.5824, 0.5829, 0.5805],\n",
            "        [0.5805, 0.5821, 0.5828, 0.5815],\n",
            "        [0.5815, 0.5809, 0.5813, 0.5794]])\n",
            "Contoh y_batch[0]:\n",
            " tensor([[0.5794, 0.5800, 0.5795, 0.5796],\n",
            "        [0.5796, 0.5792, 0.5777, 0.5759],\n",
            "        [0.5756, 0.5752, 0.5744, 0.5727],\n",
            "        [0.5728, 0.5736, 0.5717, 0.5693],\n",
            "        [0.5693, 0.5703, 0.5709, 0.5687]])\n"
          ]
        }
      ]
    },
    {
      "cell_type": "code",
      "source": [
        "device = torch.device(\"cuda\" if torch.cuda.is_available() else \"cpu\")\n",
        "\n",
        "model = TST(c_in=4, c_out=5*4, seq_len=24).to(device)  # pastikan output 20\n",
        "criterion = nn.MSELoss()\n",
        "optimizer = optim.Adam(model.parameters(), lr=1e-3)\n",
        "print(model)\n",
        "\n",
        "# TST(\n",
        "#     c_in=4,\n",
        "#     c_out=5*4,\n",
        "#     seq_len=12,\n",
        "#     d_model=128,           # Dimensi embedding / representasi\n",
        "#     n_heads=8,             # Jumlah attention head\n",
        "#     d_k=16, d_v=16,        # Dimensi masing-masing head (opsional)\n",
        "#     n_layers=3,            # Jumlah encoder layer\n",
        "#     d_ff=256,              # Ukuran hidden layer pada feedforward\n",
        "#     dropout=0.1,           # Dropout seluruh network\n",
        "#     fc_dropout=0.0,        # Dropout pada final dense layer\n",
        "#     act=\"gelu\",            # Fungsi aktivasi (bisa diganti 'relu')\n",
        "#     y_range=None,          # Bisa pakai range sigmoid output (contoh: (0,1))\n",
        "# )\n"
      ],
      "metadata": {
        "id": "ApXqn4No8dPY",
        "outputId": "7b5f3809-ee14-4d2a-998e-c6b1d9aec540",
        "colab": {
          "base_uri": "https://localhost:8080/"
        }
      },
      "id": "ApXqn4No8dPY",
      "execution_count": 66,
      "outputs": [
        {
          "output_type": "stream",
          "name": "stdout",
          "text": [
            "TST(\n",
            "  (W_P): Linear(in_features=4, out_features=128, bias=True)\n",
            "  (dropout): Dropout(p=0.1, inplace=False)\n",
            "  (encoder): _TSTEncoder(\n",
            "    (layers): ModuleList(\n",
            "      (0-2): 3 x _TSTEncoderLayer(\n",
            "        (self_attn): _MultiHeadAttention(\n",
            "          (W_Q): Linear(in_features=128, out_features=128, bias=False)\n",
            "          (W_K): Linear(in_features=128, out_features=128, bias=False)\n",
            "          (W_V): Linear(in_features=128, out_features=128, bias=False)\n",
            "          (W_O): Linear(in_features=128, out_features=128, bias=False)\n",
            "          (attention): _ScaledDotProductAttention()\n",
            "        )\n",
            "        (dropout_attn): Dropout(p=0.1, inplace=False)\n",
            "        (batchnorm_attn): Sequential(\n",
            "          (0): Transpose()\n",
            "          (1): BatchNorm1d(128, eps=1e-05, momentum=0.1, affine=True, track_running_stats=True)\n",
            "          (2): Transpose()\n",
            "        )\n",
            "        (ff): Sequential(\n",
            "          (0): Linear(in_features=128, out_features=256, bias=True)\n",
            "          (1): GELU(approximate='none')\n",
            "          (2): Dropout(p=0.1, inplace=False)\n",
            "          (3): Linear(in_features=256, out_features=128, bias=True)\n",
            "        )\n",
            "        (dropout_ffn): Dropout(p=0.1, inplace=False)\n",
            "        (batchnorm_ffn): Sequential(\n",
            "          (0): Transpose()\n",
            "          (1): BatchNorm1d(128, eps=1e-05, momentum=0.1, affine=True, track_running_stats=True)\n",
            "          (2): Transpose()\n",
            "        )\n",
            "      )\n",
            "    )\n",
            "  )\n",
            "  (flatten): Flatten()\n",
            "  (head): Sequential(\n",
            "    (0): GELU(approximate='none')\n",
            "    (1): Flatten()\n",
            "    (2): Linear(in_features=3072, out_features=20, bias=True)\n",
            "  )\n",
            ")\n"
          ]
        }
      ]
    },
    {
      "cell_type": "code",
      "source": [
        "# Model\n",
        "model = TST(c_in=4, c_out=5*4, seq_len=24).to(device)\n"
      ],
      "metadata": {
        "id": "NzquvRN4-YrW"
      },
      "id": "NzquvRN4-YrW",
      "execution_count": 67,
      "outputs": []
    },
    {
      "cell_type": "code",
      "source": [
        "# Loss dan optimizer\n",
        "criterion = nn.MSELoss()\n",
        "optimizer = optim.Adam(model.parameters(), lr=1e-3)\n"
      ],
      "metadata": {
        "id": "1vcpcMKy-YRS"
      },
      "id": "1vcpcMKy-YRS",
      "execution_count": 68,
      "outputs": []
    },
    {
      "cell_type": "code",
      "source": [
        "# Config manual\n",
        "epochs = 20\n",
        "verbose = True\n",
        "\n",
        "# Tracking loss\n",
        "train_losses = []\n",
        "val_losses = []\n",
        "\n",
        "for epoch in range(1, epochs + 1):\n",
        "    model.train()\n",
        "    total_loss = 0\n",
        "\n",
        "    for X_batch, y_batch in train_loader:\n",
        "        X_batch = X_batch.to(device).permute(0, 2, 1)\n",
        "        y_batch = y_batch.to(device)\n",
        "\n",
        "        optimizer.zero_grad()\n",
        "        output = model(X_batch).view(-1, 5, 4)\n",
        "        loss = criterion(output, y_batch)\n",
        "        loss.backward()\n",
        "        optimizer.step()\n",
        "        total_loss += loss.item()\n",
        "\n",
        "    avg_train_loss = total_loss / len(train_loader)\n",
        "    train_losses.append(avg_train_loss)\n",
        "\n",
        "    # Validation step\n",
        "    model.eval()\n",
        "    total_val_loss = 0\n",
        "    with torch.no_grad():\n",
        "        for X_batch, y_batch in test_loader:\n",
        "            X_batch = X_batch.to(device).permute(0, 2, 1)\n",
        "            y_batch = y_batch.to(device)\n",
        "\n",
        "            output = model(X_batch).view(-1, 5, 4)\n",
        "            val_loss = criterion(output, y_batch)\n",
        "            total_val_loss += val_loss.item()\n",
        "\n",
        "    avg_val_loss = total_val_loss / len(test_loader)\n",
        "    val_losses.append(avg_val_loss)\n",
        "\n",
        "    if verbose:\n",
        "        print(f\"Epoch {epoch:02d}/{epochs} - Train Loss: {avg_train_loss:.6f} - Val Loss: {avg_val_loss:.6f}\")\n"
      ],
      "metadata": {
        "id": "XDbhPyAU-YUD",
        "outputId": "a068aa22-76a2-4e73-be72-cdfacb40bd15",
        "colab": {
          "base_uri": "https://localhost:8080/"
        }
      },
      "id": "XDbhPyAU-YUD",
      "execution_count": 69,
      "outputs": [
        {
          "output_type": "stream",
          "name": "stdout",
          "text": [
            "Epoch 01/20 - Train Loss: 0.007750 - Val Loss: 0.000560\n",
            "Epoch 02/20 - Train Loss: 0.001994 - Val Loss: 0.003558\n",
            "Epoch 03/20 - Train Loss: 0.001840 - Val Loss: 0.012442\n",
            "Epoch 04/20 - Train Loss: 0.001950 - Val Loss: 0.004694\n",
            "Epoch 05/20 - Train Loss: 0.001804 - Val Loss: 0.010253\n",
            "Epoch 06/20 - Train Loss: 0.002242 - Val Loss: 0.000057\n",
            "Epoch 07/20 - Train Loss: 0.001945 - Val Loss: 0.000813\n",
            "Epoch 08/20 - Train Loss: 0.001782 - Val Loss: 0.001844\n",
            "Epoch 09/20 - Train Loss: 0.001813 - Val Loss: 0.002883\n",
            "Epoch 10/20 - Train Loss: 0.002607 - Val Loss: 0.000167\n",
            "Epoch 11/20 - Train Loss: 0.001807 - Val Loss: 0.001868\n",
            "Epoch 12/20 - Train Loss: 0.001955 - Val Loss: 0.002517\n",
            "Epoch 13/20 - Train Loss: 0.001730 - Val Loss: 0.002722\n",
            "Epoch 14/20 - Train Loss: 0.001636 - Val Loss: 0.000111\n",
            "Epoch 15/20 - Train Loss: 0.001610 - Val Loss: 0.000117\n",
            "Epoch 16/20 - Train Loss: 0.001423 - Val Loss: 0.014313\n",
            "Epoch 17/20 - Train Loss: 0.001376 - Val Loss: 0.000577\n",
            "Epoch 18/20 - Train Loss: 0.001409 - Val Loss: 0.033313\n",
            "Epoch 19/20 - Train Loss: 0.001532 - Val Loss: 0.002200\n",
            "Epoch 20/20 - Train Loss: 0.001211 - Val Loss: 0.004484\n"
          ]
        }
      ]
    },
    {
      "cell_type": "code",
      "source": [
        "plt.figure(figsize=(10, 6))\n",
        "plt.plot(train_losses, label='Train Loss')\n",
        "plt.plot(val_losses, label='Validation Loss')\n",
        "plt.title('Training and Validation Loss per Epoch')\n",
        "plt.xlabel('Epoch')\n",
        "plt.ylabel('Loss (MSE)')\n",
        "plt.grid(True)\n",
        "plt.legend()\n",
        "plt.tight_layout()\n",
        "plt.show()\n"
      ],
      "metadata": {
        "id": "5P_kWnU0-YXW",
        "outputId": "d762baa8-8923-4d98-d749-a2d8df19ad0e",
        "colab": {
          "base_uri": "https://localhost:8080/",
          "height": 433
        }
      },
      "id": "5P_kWnU0-YXW",
      "execution_count": 70,
      "outputs": [
        {
          "output_type": "display_data",
          "data": {
            "text/plain": [
              "<Figure size 1000x600 with 1 Axes>"
            ],
            "image/png": "[encoded data removed]"
          },
          "metadata": {}
        }
      ]
    },
    {
      "cell_type": "code",
      "source": [
        "#Mclarenlu warna apa bos?\n",
        "torch.save(model.state_dict(), \"tst_USDCHF5_24Timestep.pt\")\n",
        "print(\"Model saved to 'tst_ohlc_model.pt'\")\n"
      ],
      "metadata": {
        "id": "dQCSwikE-YaR",
        "outputId": "c20e3d69-8006-4699-c525-36b153d8e917",
        "colab": {
          "base_uri": "https://localhost:8080/"
        }
      },
      "id": "dQCSwikE-YaR",
      "execution_count": 71,
      "outputs": [
        {
          "output_type": "stream",
          "name": "stdout",
          "text": [
            "Model saved to 'tst_ohlc_model.pt'\n"
          ]
        }
      ]
    },
    {
      "cell_type": "code",
      "source": [
        "# Ambil satu sample dari test set\n",
        "sample_input = X_test[0]  # shape: (12, 4)\n",
        "sample_input = torch.tensor(sample_input, dtype=torch.float32).unsqueeze(0)  # (1, 12, 4)\n",
        "sample_input = sample_input.permute(0, 2, 1).to(device)  # jadi (1, 4, 12)\n",
        "\n",
        "# Load model dan jalankan prediksi\n",
        "model.eval()\n",
        "with torch.no_grad():\n",
        "    output = model(sample_input).view(-1, 5, 4).cpu().numpy()  # (1, 5, 4) → (5, 4)\n",
        "\n",
        "# Tampilkan hasil prediksi\n",
        "print(\"Hasil prediksi 5 langkah ke depan (Open, High, Low, Close):\")\n",
        "print(output[0])  # prediksi untuk langkah ke-1\n",
        "print(output)     # semua 5 langkah"
      ],
      "metadata": {
        "id": "xFQD1rV1-h_b",
        "outputId": "1525709c-80f0-47a0-f9f7-f2b59c4c3fc8",
        "colab": {
          "base_uri": "https://localhost:8080/"
        }
      },
      "id": "xFQD1rV1-h_b",
      "execution_count": 72,
      "outputs": [
        {
          "output_type": "stream",
          "name": "stdout",
          "text": [
            "Hasil prediksi 5 langkah ke depan (Open, High, Low, Close):\n",
            "[[0.3250773  0.3255094  0.32619342 0.32540482]\n",
            " [0.32522404 0.32570264 0.32610327 0.32505405]\n",
            " [0.32506993 0.32551932 0.32584316 0.32455853]\n",
            " [0.325051   0.3253006  0.3255968  0.32464793]\n",
            " [0.32491487 0.32521617 0.32541767 0.3246016 ]]\n",
            "[[[0.3250773  0.3255094  0.32619342 0.32540482]\n",
            "  [0.32522404 0.32570264 0.32610327 0.32505405]\n",
            "  [0.32506993 0.32551932 0.32584316 0.32455853]\n",
            "  [0.325051   0.3253006  0.3255968  0.32464793]\n",
            "  [0.32491487 0.32521617 0.32541767 0.3246016 ]]]\n"
          ]
        }
      ]
    },
    {
      "cell_type": "code",
      "source": [],
      "metadata": {
        "id": "DWIX_m66-Yc2"
      },
      "id": "DWIX_m66-Yc2",
      "execution_count": 72,
      "outputs": []
    }
  ],
  "metadata": {
    "accelerator": "GPU",
    "colab": {
      "provenance": []
    },
    "gpuClass": "standard",
    "kernelspec": {
      "display_name": "Python 3 (ipykernel)",
      "language": "python",
      "name": "python3"
    },
    "language_info": {
      "codemirror_mode": {
        "name": "ipython",
        "version": 3
      },
      "file_extension": ".py",
      "mimetype": "text/x-python",
      "name": "python",
      "nbconvert_exporter": "python",
      "pygments_lexer": "ipython3",
      "version": "3.11.6"
    }
  },
  "nbformat": 4,
  "nbformat_minor": 5
}