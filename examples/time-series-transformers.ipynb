{
  "cells": [
    {
      "cell_type": "code",
      "source": [
        "import torch\n",
        "import torch.nn as nn\n",
        "import torch.nn.functional as F\n",
        "import torch.optim as optim\n",
        "import matplotlib.pyplot as plt\n",
        "import numpy as np\n",
        "import pandas as pd\n",
        "import joblib\n",
        "from sklearn.preprocessing import MinMaxScaler, StandardScaler\n",
        "from sklearn.model_selection import train_test_split\n",
        "from torch.utils.data import Dataset, DataLoader\n",
        "from sample_data.tst_model import TST"
      ],
      "metadata": {
        "id": "f4buEaac8di1"
      },
      "id": "f4buEaac8di1",
      "execution_count": 1,
      "outputs": []
    },
    {
      "cell_type": "code",
      "source": [
        "# Load dataset\n",
        "df = pd.read_csv('/content/sample_data/USDCHFM5.csv', encoding='utf-16', sep=r'\\s*,\\s*', engine='python', quotechar='\"')\n",
        "df.columns = ['Date', 'Open', 'High', 'Low', 'Close', 'Volume', 'Extra']\n",
        "df['Date'] = pd.to_datetime(df['Date'].str.replace(r'^\"|\"$', '', regex=True).str.strip(), format='%Y.%m.%d %H:%M', errors='coerce')"
      ],
      "metadata": {
        "id": "mR_aYilO9Vie"
      },
      "id": "mR_aYilO9Vie",
      "execution_count": 2,
      "outputs": []
    },
    {
      "cell_type": "code",
      "source": [
        "\n",
        "# Konversi kolom DateTime ke tipe datetime, lalu jadikan index\n",
        "df.set_index('Date', inplace=True)\n",
        "\n",
        "# Print bossku\n",
        "print(df.head())\n",
        "print(df.dtypes)"
      ],
      "metadata": {
        "id": "_W1SlEbC8ddc",
        "outputId": "d1299f89-6390-4a7e-9563-cd140223226e",
        "colab": {
          "base_uri": "https://localhost:8080/"
        }
      },
      "id": "_W1SlEbC8ddc",
      "execution_count": 3,
      "outputs": [
        {
          "output_type": "stream",
          "name": "stdout",
          "text": [
            "                        Open     High      Low    Close  Volume  Extra\n",
            "Date                                                                  \n",
            "2022-07-12 09:20:00  0.98408  0.98427  0.98359  0.98390     462      0\n",
            "2022-07-12 09:25:00  0.98389  0.98422  0.98355  0.98412     454      0\n",
            "2022-07-12 09:30:00  0.98413  0.98451  0.98363  0.98390     581      0\n",
            "2022-07-12 09:35:00  0.98390  0.98428  0.98370  0.98423     540      0\n",
            "2022-07-12 09:40:00  0.98423  0.98442  0.98406  0.98417     477      0\n",
            "Open      float64\n",
            "High      float64\n",
            "Low       float64\n",
            "Close     float64\n",
            "Volume      int64\n",
            "Extra       int64\n",
            "dtype: object\n"
          ]
        }
      ]
    },
    {
      "cell_type": "code",
      "source": [
        "# Jika ingin hanya mengambil kolom OHLC, bisa tambahkan volume dkk\n",
        "ohlc = df[['Open','High','Low','Close']]\n",
        "print(ohlc.head())"
      ],
      "metadata": {
        "id": "TNXIluTP8daQ",
        "outputId": "a9bf6554-2d33-4da4-fc65-2c0514a8356b",
        "colab": {
          "base_uri": "https://localhost:8080/"
        }
      },
      "id": "TNXIluTP8daQ",
      "execution_count": 4,
      "outputs": [
        {
          "output_type": "stream",
          "name": "stdout",
          "text": [
            "                        Open     High      Low    Close\n",
            "Date                                                   \n",
            "2022-07-12 09:20:00  0.98408  0.98427  0.98359  0.98390\n",
            "2022-07-12 09:25:00  0.98389  0.98422  0.98355  0.98412\n",
            "2022-07-12 09:30:00  0.98413  0.98451  0.98363  0.98390\n",
            "2022-07-12 09:35:00  0.98390  0.98428  0.98370  0.98423\n",
            "2022-07-12 09:40:00  0.98423  0.98442  0.98406  0.98417\n"
          ]
        }
      ]
    },
    {
      "cell_type": "code",
      "source": [
        "scaler = StandardScaler(feature_range=(0, 1))\n",
        "ohlc_scaled = scaler.fit_transform(ohlc)\n",
        "print(\"Contoh hasil normalisasi:\", ohlc_scaled[:3])"
      ],
      "metadata": {
        "id": "tDW231uH9-_k"
      },
      "id": "tDW231uH9-_k",
      "execution_count": 4,
      "outputs": []
    },
    {
      "cell_type": "code",
      "source": [
        "def create_multistep_dataset(data, window_size=24, steps_ahead=5):\n",
        "    X, y = [], []\n",
        "    for i in range(len(data) - window_size - steps_ahead):\n",
        "        X.append(data[i:i + window_size])\n",
        "        y.append(data[i + window_size:i + window_size + steps_ahead])\n",
        "    return np.array(X), np.array(y)"
      ],
      "metadata": {
        "id": "jIQ1b4CJ9_Cc"
      },
      "id": "jIQ1b4CJ9_Cc",
      "execution_count": 5,
      "outputs": []
    },
    {
      "cell_type": "code",
      "source": [
        "window_size = 24     # 1 jam (jika data pakai dataset usdchfm5)\n",
        "steps_ahead = 5      # prediksi 5 bar ke depan 5x5menit = 25 menit"
      ],
      "metadata": {
        "id": "3_Ps8Wqp9_E4"
      },
      "id": "3_Ps8Wqp9_E4",
      "execution_count": 6,
      "outputs": []
    },
    {
      "cell_type": "code",
      "source": [
        "X, y = create_multistep_dataset(ohlc, window_size, steps_ahead)\n",
        "print(\"X shape:\", X.shape)  # (samples, 12, 4) 12 timestep dengan 4 fitur dataset OHLC gacor\n",
        "print(\"y shape:\", y.shape)  # (samples, 5, 4) 5 timestep prediksi ahead dengan4 fitur dataset OHLC gacor"
      ],
      "metadata": {
        "id": "VZCREuA39_H1",
        "outputId": "e0481178-ded6-41a2-9b15-6e380194ca8f",
        "colab": {
          "base_uri": "https://localhost:8080/"
        }
      },
      "id": "VZCREuA39_H1",
      "execution_count": 7,
      "outputs": [
        {
          "output_type": "stream",
          "name": "stdout",
          "text": [
            "X shape: (99985, 24, 4)\n",
            "y shape: (99985, 5, 4)\n"
          ]
        }
      ]
    },
    {
      "cell_type": "code",
      "source": [
        "# Split train-test tanpa shuffle (biar tetap urutan waktu)\n",
        "X_train, X_test, y_train, y_test = train_test_split(X, y, test_size=0.2, shuffle=False)"
      ],
      "metadata": {
        "id": "Shv0QuHT9_KY"
      },
      "id": "Shv0QuHT9_KY",
      "execution_count": 8,
      "outputs": []
    },
    {
      "cell_type": "code",
      "source": [
        "print(\"X_train shape:\", X_train.shape)\n",
        "print(\"y_train shape:\", y_train.shape)\n",
        "print(\"X_test shape :\", X_test.shape)\n",
        "print(\"y_test shape :\", y_test.shape)"
      ],
      "metadata": {
        "id": "03vsU-hf9_Mk",
        "outputId": "24304beb-c9d9-4f78-c35c-7175aa3d8163",
        "colab": {
          "base_uri": "https://localhost:8080/"
        }
      },
      "id": "03vsU-hf9_Mk",
      "execution_count": 9,
      "outputs": [
        {
          "output_type": "stream",
          "name": "stdout",
          "text": [
            "X_train shape: (79988, 24, 4)\n",
            "y_train shape: (79988, 5, 4)\n",
            "X_test shape : (19997, 24, 4)\n",
            "y_test shape : (19997, 5, 4)\n"
          ]
        }
      ]
    },
    {
      "cell_type": "code",
      "source": [
        "\n",
        "\n",
        "class OHLCMultiStepDataset(Dataset):\n",
        "    def __init__(self, X, y):\n",
        "        self.X = torch.tensor(X, dtype=torch.float32)\n",
        "        self.y = torch.tensor(y, dtype=torch.float32)\n",
        "\n",
        "    def __len__(self):\n",
        "        return len(self.X)\n",
        "\n",
        "    def __getitem__(self, idx):\n",
        "        return self.X[idx], self.y[idx]\n",
        "\n",
        "train_dataset = OHLCMultiStepDataset(X_train, y_train)\n",
        "test_dataset = OHLCMultiStepDataset(X_test, y_test)\n",
        "\n",
        "train_loader = DataLoader(train_dataset, batch_size=64, shuffle=True)\n",
        "test_loader = DataLoader(test_dataset, batch_size=64, shuffle=False)\n"
      ],
      "metadata": {
        "id": "gV_ZHjDm8dXY"
      },
      "id": "gV_ZHjDm8dXY",
      "execution_count": 10,
      "outputs": []
    },
    {
      "cell_type": "code",
      "source": [
        "# Ambil satu batch dari train_loader\n",
        "for X_batch, y_batch in train_loader:\n",
        "    print(\"X_batch shape:\", X_batch.shape)\n",
        "    print(\"y_batch shape:\", y_batch.shape)\n",
        "    print(\"Contoh X_batch[0]:\\n\", X_batch[0])\n",
        "    print(\"Contoh y_batch[0]:\\n\", y_batch[0])\n",
        "    break  # supaya hanya print 1 batch\n"
      ],
      "metadata": {
        "id": "nXhosNbl8dS7",
        "outputId": "42a350fe-2a5d-4686-98af-727ba5f4ca40",
        "colab": {
          "base_uri": "https://localhost:8080/"
        }
      },
      "id": "nXhosNbl8dS7",
      "execution_count": 11,
      "outputs": [
        {
          "output_type": "stream",
          "name": "stdout",
          "text": [
            "X_batch shape: torch.Size([64, 24, 4])\n",
            "y_batch shape: torch.Size([64, 5, 4])\n",
            "Contoh X_batch[0]:\n",
            " tensor([[0.8876, 0.8876, 0.8875, 0.8875],\n",
            "        [0.8875, 0.8875, 0.8873, 0.8874],\n",
            "        [0.8874, 0.8875, 0.8872, 0.8873],\n",
            "        [0.8873, 0.8874, 0.8872, 0.8874],\n",
            "        [0.8874, 0.8875, 0.8871, 0.8873],\n",
            "        [0.8873, 0.8874, 0.8872, 0.8872],\n",
            "        [0.8872, 0.8874, 0.8869, 0.8872],\n",
            "        [0.8872, 0.8877, 0.8872, 0.8877],\n",
            "        [0.8877, 0.8878, 0.8873, 0.8873],\n",
            "        [0.8873, 0.8874, 0.8871, 0.8873],\n",
            "        [0.8873, 0.8877, 0.8872, 0.8875],\n",
            "        [0.8875, 0.8879, 0.8875, 0.8878],\n",
            "        [0.8878, 0.8879, 0.8877, 0.8878],\n",
            "        [0.8878, 0.8882, 0.8878, 0.8881],\n",
            "        [0.8881, 0.8882, 0.8879, 0.8880],\n",
            "        [0.8880, 0.8881, 0.8877, 0.8881],\n",
            "        [0.8881, 0.8892, 0.8880, 0.8892],\n",
            "        [0.8892, 0.8893, 0.8887, 0.8888],\n",
            "        [0.8888, 0.8888, 0.8882, 0.8887],\n",
            "        [0.8887, 0.8887, 0.8882, 0.8885],\n",
            "        [0.8885, 0.8888, 0.8881, 0.8882],\n",
            "        [0.8882, 0.8884, 0.8878, 0.8882],\n",
            "        [0.8882, 0.8885, 0.8879, 0.8879],\n",
            "        [0.8879, 0.8880, 0.8877, 0.8879]])\n",
            "Contoh y_batch[0]:\n",
            " tensor([[0.8879, 0.8884, 0.8879, 0.8882],\n",
            "        [0.8882, 0.8882, 0.8877, 0.8878],\n",
            "        [0.8878, 0.8882, 0.8878, 0.8881],\n",
            "        [0.8881, 0.8881, 0.8876, 0.8876],\n",
            "        [0.8876, 0.8877, 0.8871, 0.8871]])\n"
          ]
        }
      ]
    },
    {
      "cell_type": "code",
      "source": [
        "device = torch.device(\"cuda\" if torch.cuda.is_available() else \"cpu\")\n",
        "\n",
        "model = TST(c_in=4, c_out=5*4, seq_len=24).to(device)  # pastikan output 20\n",
        "criterion = nn.MSELoss()\n",
        "optimizer = optim.Adam(model.parameters(), lr=1e-3)\n",
        "print(model)\n",
        "\n",
        "# TST(\n",
        "#     c_in=4,\n",
        "#     c_out=5*4,\n",
        "#     seq_len=12,\n",
        "#     d_model=128,           # Dimensi embedding / representasi\n",
        "#     n_heads=8,             # Jumlah attention head\n",
        "#     d_k=16, d_v=16,        # Dimensi masing-masing head (opsional)\n",
        "#     n_layers=3,            # Jumlah encoder layer\n",
        "#     d_ff=256,              # Ukuran hidden layer pada feedforward\n",
        "#     dropout=0.1,           # Dropout seluruh network\n",
        "#     fc_dropout=0.0,        # Dropout pada final dense layer\n",
        "#     act=\"gelu\",            # Fungsi aktivasi (bisa diganti 'relu')\n",
        "#     y_range=None,          # Bisa pakai range sigmoid output (contoh: (0,1))\n",
        "# )\n"
      ],
      "metadata": {
        "id": "ApXqn4No8dPY",
        "outputId": "31656755-dd42-466c-c816-5aac7904337f",
        "colab": {
          "base_uri": "https://localhost:8080/"
        }
      },
      "id": "ApXqn4No8dPY",
      "execution_count": 12,
      "outputs": [
        {
          "output_type": "stream",
          "name": "stdout",
          "text": [
            "TST(\n",
            "  (W_P): Linear(in_features=4, out_features=128, bias=True)\n",
            "  (dropout): Dropout(p=0.1, inplace=False)\n",
            "  (encoder): _TSTEncoder(\n",
            "    (layers): ModuleList(\n",
            "      (0-2): 3 x _TSTEncoderLayer(\n",
            "        (self_attn): _MultiHeadAttention(\n",
            "          (W_Q): Linear(in_features=128, out_features=128, bias=False)\n",
            "          (W_K): Linear(in_features=128, out_features=128, bias=False)\n",
            "          (W_V): Linear(in_features=128, out_features=128, bias=False)\n",
            "          (W_O): Linear(in_features=128, out_features=128, bias=False)\n",
            "          (attention): _ScaledDotProductAttention()\n",
            "        )\n",
            "        (dropout_attn): Dropout(p=0.1, inplace=False)\n",
            "        (batchnorm_attn): Sequential(\n",
            "          (0): Transpose()\n",
            "          (1): BatchNorm1d(128, eps=1e-05, momentum=0.1, affine=True, track_running_stats=True)\n",
            "          (2): Transpose()\n",
            "        )\n",
            "        (ff): Sequential(\n",
            "          (0): Linear(in_features=128, out_features=256, bias=True)\n",
            "          (1): GELU(approximate='none')\n",
            "          (2): Dropout(p=0.1, inplace=False)\n",
            "          (3): Linear(in_features=256, out_features=128, bias=True)\n",
            "        )\n",
            "        (dropout_ffn): Dropout(p=0.1, inplace=False)\n",
            "        (batchnorm_ffn): Sequential(\n",
            "          (0): Transpose()\n",
            "          (1): BatchNorm1d(128, eps=1e-05, momentum=0.1, affine=True, track_running_stats=True)\n",
            "          (2): Transpose()\n",
            "        )\n",
            "      )\n",
            "    )\n",
            "  )\n",
            "  (flatten): Flatten()\n",
            "  (head): Sequential(\n",
            "    (0): GELU(approximate='none')\n",
            "    (1): Flatten()\n",
            "    (2): Linear(in_features=3072, out_features=20, bias=True)\n",
            "  )\n",
            ")\n"
          ]
        }
      ]
    },
    {
      "cell_type": "code",
      "source": [
        "# Model\n",
        "model = TST(c_in=4, c_out=5*4, seq_len=24).to(device)\n"
      ],
      "metadata": {
        "id": "NzquvRN4-YrW"
      },
      "id": "NzquvRN4-YrW",
      "execution_count": 13,
      "outputs": []
    },
    {
      "cell_type": "code",
      "source": [
        "# Loss dan optimizer\n",
        "criterion = nn.MSELoss()\n",
        "optimizer = optim.Adam(model.parameters(), lr=1e-3)\n"
      ],
      "metadata": {
        "id": "1vcpcMKy-YRS"
      },
      "id": "1vcpcMKy-YRS",
      "execution_count": 14,
      "outputs": []
    },
    {
      "cell_type": "code",
      "source": [
        "# Config manual\n",
        "epochs = 20\n",
        "verbose = True\n",
        "\n",
        "# Tracking loss\n",
        "train_losses = []\n",
        "val_losses = []\n",
        "\n",
        "for epoch in range(1, epochs + 1):\n",
        "    model.train()\n",
        "    total_loss = 0\n",
        "\n",
        "    for X_batch, y_batch in train_loader:\n",
        "        X_batch = X_batch.to(device).permute(0, 2, 1)\n",
        "        y_batch = y_batch.to(device)\n",
        "\n",
        "        optimizer.zero_grad()\n",
        "        output = model(X_batch).view(-1, 5, 4)\n",
        "        loss = criterion(output, y_batch)\n",
        "        loss.backward()\n",
        "        optimizer.step()\n",
        "        total_loss += loss.item()\n",
        "\n",
        "    avg_train_loss = total_loss / len(train_loader)\n",
        "    train_losses.append(avg_train_loss)\n",
        "\n",
        "    # Validation step\n",
        "    model.eval()\n",
        "    total_val_loss = 0\n",
        "    with torch.no_grad():\n",
        "        for X_batch, y_batch in test_loader:\n",
        "            X_batch = X_batch.to(device).permute(0, 2, 1)\n",
        "            y_batch = y_batch.to(device)\n",
        "\n",
        "            output = model(X_batch).view(-1, 5, 4)\n",
        "            val_loss = criterion(output, y_batch)\n",
        "            total_val_loss += val_loss.item()\n",
        "\n",
        "    avg_val_loss = total_val_loss / len(test_loader)\n",
        "    val_losses.append(avg_val_loss)\n",
        "\n",
        "    if verbose:\n",
        "        print(f\"Epoch {epoch:02d}/{epochs} - Train Loss: {avg_train_loss:.6f} - Val Loss: {avg_val_loss:.6f}\")\n"
      ],
      "metadata": {
        "id": "XDbhPyAU-YUD",
        "outputId": "464d15ba-446d-4a9a-a6d5-de669b693dec",
        "colab": {
          "base_uri": "https://localhost:8080/"
        }
      },
      "id": "XDbhPyAU-YUD",
      "execution_count": 15,
      "outputs": [
        {
          "output_type": "stream",
          "name": "stdout",
          "text": [
            "Epoch 01/20 - Train Loss: 0.007848 - Val Loss: 0.349910\n",
            "Epoch 02/20 - Train Loss: 0.000614 - Val Loss: 0.390501\n",
            "Epoch 03/20 - Train Loss: 0.000625 - Val Loss: 0.483622\n",
            "Epoch 04/20 - Train Loss: 0.000677 - Val Loss: 0.598046\n",
            "Epoch 05/20 - Train Loss: 0.000539 - Val Loss: 0.806982\n",
            "Epoch 06/20 - Train Loss: 0.000472 - Val Loss: 1.011783\n",
            "Epoch 07/20 - Train Loss: 0.000585 - Val Loss: 1.084787\n",
            "Epoch 08/20 - Train Loss: 0.000456 - Val Loss: 1.554885\n",
            "Epoch 09/20 - Train Loss: 0.000465 - Val Loss: 1.194848\n",
            "Epoch 10/20 - Train Loss: 0.000420 - Val Loss: 1.355812\n",
            "Epoch 11/20 - Train Loss: 0.000435 - Val Loss: 1.290585\n",
            "Epoch 12/20 - Train Loss: 0.000412 - Val Loss: 1.178602\n",
            "Epoch 13/20 - Train Loss: 0.000380 - Val Loss: 0.886501\n",
            "Epoch 14/20 - Train Loss: 0.000439 - Val Loss: 0.792786\n",
            "Epoch 15/20 - Train Loss: 0.000336 - Val Loss: 0.595671\n",
            "Epoch 16/20 - Train Loss: 0.000936 - Val Loss: 0.153752\n",
            "Epoch 17/20 - Train Loss: 0.000317 - Val Loss: 0.106294\n",
            "Epoch 18/20 - Train Loss: 0.000275 - Val Loss: 0.040726\n",
            "Epoch 19/20 - Train Loss: 0.000331 - Val Loss: 0.020281\n",
            "Epoch 20/20 - Train Loss: 0.000193 - Val Loss: 0.008977\n"
          ]
        }
      ]
    },
    {
      "cell_type": "code",
      "source": [
        "plt.figure(figsize=(10, 6))\n",
        "plt.plot(train_losses, label='Train Loss')\n",
        "plt.plot(val_losses, label='Validation Loss')\n",
        "plt.title('Training and Validation Loss per Epoch')\n",
        "plt.xlabel('Epoch')\n",
        "plt.ylabel('Loss (MSE)')\n",
        "plt.grid(True)\n",
        "plt.legend()\n",
        "plt.tight_layout()\n",
        "plt.show()\n"
      ],
      "metadata": {
        "id": "5P_kWnU0-YXW",
        "outputId": "a9457aa5-b9f1-4075-dabc-75bbced10a52",
        "colab": {
          "base_uri": "https://localhost:8080/",
          "height": 433
        }
      },
      "id": "5P_kWnU0-YXW",
      "execution_count": 16,
      "outputs": [
        {
          "output_type": "display_data",
          "data": {
            "text/plain": [
              "<Figure size 1000x600 with 1 Axes>"
            ],
            "image/png": "[encoded data removed]"
          },
          "metadata": {}
        }
      ]
    },
    {
      "cell_type": "code",
      "source": [
        "#Mclarenlu warna apa bos?\n",
        "torch.save(model.state_dict(), \"tst_USDCHF5_24Timestep.pt\")\n",
        "print(\"Model saved to 'tst_ohlc_model.pt'\")\n"
      ],
      "metadata": {
        "id": "dQCSwikE-YaR",
        "outputId": "df528754-cb70-4774-a3aa-9888081af5bd",
        "colab": {
          "base_uri": "https://localhost:8080/"
        }
      },
      "id": "dQCSwikE-YaR",
      "execution_count": 17,
      "outputs": [
        {
          "output_type": "stream",
          "name": "stdout",
          "text": [
            "Model saved to 'tst_ohlc_model.pt'\n"
          ]
        }
      ]
    },
    {
      "cell_type": "code",
      "source": [
        "# Ambil satu sample dari test set\n",
        "sample_input = X_test[0]  # shape: (12, 4)\n",
        "sample_input = torch.tensor(sample_input, dtype=torch.float32).unsqueeze(0)  # (1, 12, 4)\n",
        "sample_input = sample_input.permute(0, 2, 1).to(device)  # jadi (1, 4, 12)\n",
        "\n",
        "# Load model dan jalankan prediksi\n",
        "model.eval()\n",
        "with torch.no_grad():\n",
        "    output = model(sample_input).view(-1, 5, 4).cpu().numpy()  # (1, 5, 4) → (5, 4)\n",
        "\n",
        "# Tampilkan hasil prediksi\n",
        "print(\"Hasil prediksi 5 langkah ke depan (Open, High, Low, Close):\")\n",
        "print(output[0])  # prediksi untuk langkah ke-1\n",
        "print(output)     # semua 5 langkah"
      ],
      "metadata": {
        "id": "xFQD1rV1-h_b",
        "outputId": "0144a8f9-e64d-442f-cf5a-967c6b9dce28",
        "colab": {
          "base_uri": "https://localhost:8080/"
        }
      },
      "id": "xFQD1rV1-h_b",
      "execution_count": 18,
      "outputs": [
        {
          "output_type": "stream",
          "name": "stdout",
          "text": [
            "Hasil prediksi 5 langkah ke depan (Open, High, Low, Close):\n",
            "[[0.7875608  0.78803027 0.7877041  0.7873445 ]\n",
            " [0.7884776  0.78778577 0.78639114 0.78711987]\n",
            " [0.78842866 0.78964096 0.78745866 0.78853023]\n",
            " [0.7882764  0.78894395 0.7873682  0.78916204]\n",
            " [0.7872323  0.7902112  0.78709817 0.7893071 ]]\n",
            "[[[0.7875608  0.78803027 0.7877041  0.7873445 ]\n",
            "  [0.7884776  0.78778577 0.78639114 0.78711987]\n",
            "  [0.78842866 0.78964096 0.78745866 0.78853023]\n",
            "  [0.7882764  0.78894395 0.7873682  0.78916204]\n",
            "  [0.7872323  0.7902112  0.78709817 0.7893071 ]]]\n"
          ]
        }
      ]
    },
    {
      "cell_type": "code",
      "source": [],
      "metadata": {
        "id": "DWIX_m66-Yc2"
      },
      "id": "DWIX_m66-Yc2",
      "execution_count": 18,
      "outputs": []
    }
  ],
  "metadata": {
    "accelerator": "GPU",
    "colab": {
      "provenance": []
    },
    "gpuClass": "standard",
    "kernelspec": {
      "display_name": "Python 3 (ipykernel)",
      "language": "python",
      "name": "python3"
    },
    "language_info": {
      "codemirror_mode": {
        "name": "ipython",
        "version": 3
      },
      "file_extension": ".py",
      "mimetype": "text/x-python",
      "name": "python",
      "nbconvert_exporter": "python",
      "pygments_lexer": "ipython3",
      "version": "3.11.6"
    }
  },
  "nbformat": 4,
  "nbformat_minor": 5
}