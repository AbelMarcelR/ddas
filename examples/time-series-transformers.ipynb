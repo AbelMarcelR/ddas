{
  "cells": [
    {
      "cell_type": "code",
      "source": [
        "import torch\n",
        "import torch.nn as nn\n",
        "import torch.nn.functional as F\n",
        "import torch.optim as optim\n",
        "import matplotlib.pyplot as plt\n",
        "import numpy as np\n",
        "import pandas as pd\n",
        "import joblib\n",
        "from sklearn.preprocessing import MinMaxScaler\n",
        "from sklearn.preprocessing import StandardScaler\n",
        "from sklearn.model_selection import train_test_split\n",
        "from torch.utils.data import Dataset, DataLoader\n",
        "from sample_data.tst_model import TST"
      ],
      "metadata": {
        "id": "f4buEaac8di1"
      },
      "id": "f4buEaac8di1",
      "execution_count": 11,
      "outputs": []
    },
    {
      "cell_type": "code",
      "source": [
        "# Load dataset\n",
        "df = pd.read_csv('/content/sample_data/dataset_USDCHFM5.csv', encoding='utf-8', sep=r'\\s*,\\s*', engine='python', quotechar='\"')\n",
        "df.columns = ['Date', 'Open', 'High', 'Low', 'Close', 'Volume', 'Extra']\n",
        "df['Date'] = pd.to_datetime(df['Date'].str.replace(r'^\"|\"$', '', regex=True).str.strip(), format='%Y.%m.%d %H:%M', errors='coerce')"
      ],
      "metadata": {
        "id": "mR_aYilO9Vie"
      },
      "id": "mR_aYilO9Vie",
      "execution_count": 12,
      "outputs": []
    },
    {
      "cell_type": "code",
      "source": [
        "\n",
        "# Konversi kolom DateTime ke tipe datetime, lalu jadikan index\n",
        "df.set_index('Date', inplace=True)\n",
        "\n",
        "# Print bossku\n",
        "print(df.head())\n",
        "print(df.dtypes)"
      ],
      "metadata": {
        "id": "_W1SlEbC8ddc",
        "outputId": "c1f258fb-cb29-4311-baea-ba6e67d3a976",
        "colab": {
          "base_uri": "https://localhost:8080/"
        }
      },
      "id": "_W1SlEbC8ddc",
      "execution_count": 13,
      "outputs": [
        {
          "output_type": "stream",
          "name": "stdout",
          "text": [
            "         Open     High      Low    Close  Volume  Extra\n",
            "Date                                                   \n",
            "NaT   0.98408  0.98427  0.98359  0.98390     462      0\n",
            "NaT   0.98389  0.98422  0.98355  0.98412     454      0\n",
            "NaT   0.98413  0.98451  0.98363  0.98390     581      0\n",
            "NaT   0.98390  0.98428  0.98370  0.98423     540      0\n",
            "NaT   0.98423  0.98442  0.98406  0.98417     477      0\n",
            "Open      float64\n",
            "High      float64\n",
            "Low       float64\n",
            "Close     float64\n",
            "Volume      int64\n",
            "Extra       int64\n",
            "dtype: object\n"
          ]
        }
      ]
    },
    {
      "cell_type": "code",
      "source": [
        "# Jika ingin hanya mengambil kolom OHLC, bisa tambahkan volume dkk\n",
        "ohlc = df[['Open','High','Low','Close']]\n",
        "print(ohlc.head())"
      ],
      "metadata": {
        "id": "TNXIluTP8daQ",
        "outputId": "5bf1e17c-26f2-4349-d13d-8c162d72a624",
        "colab": {
          "base_uri": "https://localhost:8080/"
        }
      },
      "id": "TNXIluTP8daQ",
      "execution_count": 14,
      "outputs": [
        {
          "output_type": "stream",
          "name": "stdout",
          "text": [
            "         Open     High      Low    Close\n",
            "Date                                    \n",
            "NaT   0.98408  0.98427  0.98359  0.98390\n",
            "NaT   0.98389  0.98422  0.98355  0.98412\n",
            "NaT   0.98413  0.98451  0.98363  0.98390\n",
            "NaT   0.98390  0.98428  0.98370  0.98423\n",
            "NaT   0.98423  0.98442  0.98406  0.98417\n"
          ]
        }
      ]
    },
    {
      "cell_type": "code",
      "source": [
        "# scaler = StandardScaler()\n",
        "# ohlc_scaled = scaler.fit_transform(ohlc)\n",
        "# print(\"Contoh hasil normalisasi:\", ohlc_scaled[:3])"
      ],
      "metadata": {
        "id": "tDW231uH9-_k"
      },
      "id": "tDW231uH9-_k",
      "execution_count": 15,
      "outputs": []
    },
    {
      "cell_type": "code",
      "source": [
        "from google.colab import drive\n",
        "drive.mount('/content/drive')"
      ],
      "metadata": {
        "id": "0MXd7PAzcBzo"
      },
      "id": "0MXd7PAzcBzo",
      "execution_count": null,
      "outputs": []
    },
    {
      "cell_type": "code",
      "source": [
        "def create_multistep_dataset(data, window_size=24, steps_ahead=5):\n",
        "    X, y = [], []\n",
        "    for i in range(len(data) - window_size - steps_ahead):\n",
        "        X.append(data[i:i + window_size])\n",
        "        y.append(data[i + window_size:i + window_size + steps_ahead])\n",
        "    return np.array(X), np.array(y)"
      ],
      "metadata": {
        "id": "jIQ1b4CJ9_Cc"
      },
      "id": "jIQ1b4CJ9_Cc",
      "execution_count": 16,
      "outputs": []
    },
    {
      "cell_type": "code",
      "source": [
        "window_size = 24     # 1 jam (jika data pakai dataset usdchfm5)\n",
        "steps_ahead = 5      # prediksi 5 bar ke depan 5x5menit = 25 menit"
      ],
      "metadata": {
        "id": "3_Ps8Wqp9_E4"
      },
      "id": "3_Ps8Wqp9_E4",
      "execution_count": 17,
      "outputs": []
    },
    {
      "cell_type": "code",
      "source": [
        "X, y = create_multistep_dataset(ohlc, window_size, steps_ahead)\n",
        "print(\"X shape:\", X.shape)  # (samples, 12, 4) 12 timestep dengan 4 fitur dataset OHLC gacor\n",
        "print(\"y shape:\", y.shape)  # (samples, 5, 4) 5 timestep prediksi ahead dengan4 fitur dataset OHLC gacor"
      ],
      "metadata": {
        "id": "VZCREuA39_H1",
        "outputId": "0537bf61-def7-4227-da29-1b943c93b31d",
        "colab": {
          "base_uri": "https://localhost:8080/"
        }
      },
      "id": "VZCREuA39_H1",
      "execution_count": 18,
      "outputs": [
        {
          "output_type": "stream",
          "name": "stdout",
          "text": [
            "X shape: (99985, 24, 4)\n",
            "y shape: (99985, 5, 4)\n"
          ]
        }
      ]
    },
    {
      "cell_type": "code",
      "source": [
        "# Split train-test tanpa shuffle (biar tetap urutan waktu)\n",
        "X_train, X_test, y_train, y_test = train_test_split(X, y, test_size=0.2, shuffle=False)"
      ],
      "metadata": {
        "id": "Shv0QuHT9_KY"
      },
      "id": "Shv0QuHT9_KY",
      "execution_count": 19,
      "outputs": []
    },
    {
      "cell_type": "code",
      "source": [
        "print(\"X_train shape:\", X_train.shape)\n",
        "print(\"y_train shape:\", y_train.shape)\n",
        "print(\"X_test shape :\", X_test.shape)\n",
        "print(\"y_test shape :\", y_test.shape)"
      ],
      "metadata": {
        "id": "03vsU-hf9_Mk",
        "outputId": "1c90f706-b6a3-4692-dc85-0d2d57533a49",
        "colab": {
          "base_uri": "https://localhost:8080/"
        }
      },
      "id": "03vsU-hf9_Mk",
      "execution_count": 20,
      "outputs": [
        {
          "output_type": "stream",
          "name": "stdout",
          "text": [
            "X_train shape: (79988, 24, 4)\n",
            "y_train shape: (79988, 5, 4)\n",
            "X_test shape : (19997, 24, 4)\n",
            "y_test shape : (19997, 5, 4)\n"
          ]
        }
      ]
    },
    {
      "cell_type": "code",
      "source": [
        "\n",
        "\n",
        "class OHLCMultiStepDataset(Dataset):\n",
        "    def __init__(self, X, y):\n",
        "        self.X = torch.tensor(X, dtype=torch.float32)\n",
        "        self.y = torch.tensor(y, dtype=torch.float32)\n",
        "\n",
        "    def __len__(self):\n",
        "        return len(self.X)\n",
        "\n",
        "    def __getitem__(self, idx):\n",
        "        return self.X[idx], self.y[idx]\n",
        "\n",
        "train_dataset = OHLCMultiStepDataset(X_train, y_train)\n",
        "test_dataset = OHLCMultiStepDataset(X_test, y_test)\n",
        "\n",
        "train_loader = DataLoader(train_dataset, batch_size=64, shuffle=True)\n",
        "test_loader = DataLoader(test_dataset, batch_size=64, shuffle=False)\n"
      ],
      "metadata": {
        "id": "gV_ZHjDm8dXY"
      },
      "id": "gV_ZHjDm8dXY",
      "execution_count": 21,
      "outputs": []
    },
    {
      "cell_type": "code",
      "source": [
        "# Ambil satu batch dari train_loader\n",
        "for X_batch, y_batch in train_loader:\n",
        "    print(\"X_batch shape:\", X_batch.shape)\n",
        "    print(\"y_batch shape:\", y_batch.shape)\n",
        "    print(\"Contoh X_batch[0]:\\n\", X_batch[0])\n",
        "    print(\"Contoh y_batch[0]:\\n\", y_batch[0])\n",
        "    break  # supaya hanya print 1 batch\n"
      ],
      "metadata": {
        "id": "nXhosNbl8dS7",
        "outputId": "fdde6e10-e33d-4fdf-eebe-83f17c03b085",
        "colab": {
          "base_uri": "https://localhost:8080/"
        }
      },
      "id": "nXhosNbl8dS7",
      "execution_count": 22,
      "outputs": [
        {
          "output_type": "stream",
          "name": "stdout",
          "text": [
            "X_batch shape: torch.Size([64, 24, 4])\n",
            "y_batch shape: torch.Size([64, 5, 4])\n",
            "Contoh X_batch[0]:\n",
            " tensor([[0.8890, 0.8890, 0.8889, 0.8889],\n",
            "        [0.8889, 0.8890, 0.8887, 0.8889],\n",
            "        [0.8889, 0.8890, 0.8887, 0.8888],\n",
            "        [0.8888, 0.8889, 0.8888, 0.8889],\n",
            "        [0.8888, 0.8890, 0.8888, 0.8890],\n",
            "        [0.8890, 0.8892, 0.8889, 0.8891],\n",
            "        [0.8891, 0.8891, 0.8889, 0.8890],\n",
            "        [0.8890, 0.8891, 0.8889, 0.8891],\n",
            "        [0.8891, 0.8893, 0.8890, 0.8893],\n",
            "        [0.8893, 0.8894, 0.8892, 0.8894],\n",
            "        [0.8894, 0.8896, 0.8894, 0.8896],\n",
            "        [0.8896, 0.8900, 0.8896, 0.8899],\n",
            "        [0.8899, 0.8901, 0.8899, 0.8899],\n",
            "        [0.8899, 0.8900, 0.8899, 0.8900],\n",
            "        [0.8900, 0.8900, 0.8899, 0.8899],\n",
            "        [0.8899, 0.8904, 0.8899, 0.8903],\n",
            "        [0.8903, 0.8903, 0.8902, 0.8903],\n",
            "        [0.8903, 0.8904, 0.8902, 0.8902],\n",
            "        [0.8902, 0.8903, 0.8902, 0.8903],\n",
            "        [0.8903, 0.8903, 0.8901, 0.8901],\n",
            "        [0.8901, 0.8902, 0.8901, 0.8901],\n",
            "        [0.8901, 0.8902, 0.8900, 0.8900],\n",
            "        [0.8900, 0.8901, 0.8900, 0.8900],\n",
            "        [0.8900, 0.8900, 0.8899, 0.8900]])\n",
            "Contoh y_batch[0]:\n",
            " tensor([[0.8900, 0.8902, 0.8900, 0.8901],\n",
            "        [0.8901, 0.8902, 0.8901, 0.8901],\n",
            "        [0.8901, 0.8901, 0.8900, 0.8900],\n",
            "        [0.8900, 0.8901, 0.8900, 0.8901],\n",
            "        [0.8901, 0.8903, 0.8901, 0.8903]])\n"
          ]
        }
      ]
    },
    {
      "cell_type": "code",
      "source": [
        "device = torch.device(\"cuda\" if torch.cuda.is_available() else \"cpu\")\n",
        "\n",
        "model = TST(c_in=4, c_out=5*4, seq_len=24).to(device)  # pastikan output 20\n",
        "criterion = nn.MSELoss()\n",
        "optimizer = optim.Adam(model.parameters(), lr=1e-3)\n",
        "print(model)\n",
        "\n",
        "# TST(\n",
        "#     c_in=4,\n",
        "#     c_out=5*4,\n",
        "#     seq_len=12,\n",
        "#     d_model=128,           # Dimensi embedding / representasi\n",
        "#     n_heads=8,             # Jumlah attention head\n",
        "#     d_k=16, d_v=16,        # Dimensi masing-masing head (opsional)\n",
        "#     n_layers=3,            # Jumlah encoder layer\n",
        "#     d_ff=256,              # Ukuran hidden layer pada feedforward\n",
        "#     dropout=0.1,           # Dropout seluruh network\n",
        "#     fc_dropout=0.0,        # Dropout pada final dense layer\n",
        "#     act=\"gelu\",            # Fungsi aktivasi (bisa diganti 'relu')\n",
        "#     y_range=None,          # Bisa pakai range sigmoid output (contoh: (0,1))\n",
        "# )\n"
      ],
      "metadata": {
        "id": "ApXqn4No8dPY",
        "outputId": "3ada2780-68a0-47ff-8db3-0068141441dd",
        "colab": {
          "base_uri": "https://localhost:8080/"
        }
      },
      "id": "ApXqn4No8dPY",
      "execution_count": 23,
      "outputs": [
        {
          "output_type": "stream",
          "name": "stdout",
          "text": [
            "TST(\n",
            "  (W_P): Linear(in_features=4, out_features=128, bias=True)\n",
            "  (dropout): Dropout(p=0.1, inplace=False)\n",
            "  (encoder): _TSTEncoder(\n",
            "    (layers): ModuleList(\n",
            "      (0-2): 3 x _TSTEncoderLayer(\n",
            "        (self_attn): _MultiHeadAttention(\n",
            "          (W_Q): Linear(in_features=128, out_features=128, bias=False)\n",
            "          (W_K): Linear(in_features=128, out_features=128, bias=False)\n",
            "          (W_V): Linear(in_features=128, out_features=128, bias=False)\n",
            "          (W_O): Linear(in_features=128, out_features=128, bias=False)\n",
            "          (attention): _ScaledDotProductAttention()\n",
            "        )\n",
            "        (dropout_attn): Dropout(p=0.1, inplace=False)\n",
            "        (batchnorm_attn): Sequential(\n",
            "          (0): Transpose()\n",
            "          (1): BatchNorm1d(128, eps=1e-05, momentum=0.1, affine=True, track_running_stats=True)\n",
            "          (2): Transpose()\n",
            "        )\n",
            "        (ff): Sequential(\n",
            "          (0): Linear(in_features=128, out_features=256, bias=True)\n",
            "          (1): GELU(approximate='none')\n",
            "          (2): Dropout(p=0.1, inplace=False)\n",
            "          (3): Linear(in_features=256, out_features=128, bias=True)\n",
            "        )\n",
            "        (dropout_ffn): Dropout(p=0.1, inplace=False)\n",
            "        (batchnorm_ffn): Sequential(\n",
            "          (0): Transpose()\n",
            "          (1): BatchNorm1d(128, eps=1e-05, momentum=0.1, affine=True, track_running_stats=True)\n",
            "          (2): Transpose()\n",
            "        )\n",
            "      )\n",
            "    )\n",
            "  )\n",
            "  (flatten): Flatten()\n",
            "  (head): Sequential(\n",
            "    (0): GELU(approximate='none')\n",
            "    (1): Flatten()\n",
            "    (2): Linear(in_features=3072, out_features=20, bias=True)\n",
            "  )\n",
            ")\n"
          ]
        }
      ]
    },
    {
      "cell_type": "code",
      "source": [
        "# Model\n",
        "model = TST(c_in=4, c_out=5*4, seq_len=24).to(device)\n"
      ],
      "metadata": {
        "id": "NzquvRN4-YrW"
      },
      "id": "NzquvRN4-YrW",
      "execution_count": 24,
      "outputs": []
    },
    {
      "cell_type": "code",
      "source": [
        "# Loss dan optimizer\n",
        "criterion = nn.MSELoss()\n",
        "optimizer = optim.Adam(model.parameters(), lr=1e-3)\n"
      ],
      "metadata": {
        "id": "1vcpcMKy-YRS"
      },
      "id": "1vcpcMKy-YRS",
      "execution_count": 25,
      "outputs": []
    },
    {
      "cell_type": "code",
      "source": [
        "# Config manual\n",
        "epochs = 20\n",
        "verbose = True\n",
        "\n",
        "# Tracking loss\n",
        "train_losses = []\n",
        "val_losses = []\n",
        "\n",
        "for epoch in range(1, epochs + 1):\n",
        "    model.train()\n",
        "    total_loss = 0\n",
        "\n",
        "    for X_batch, y_batch in train_loader:\n",
        "        X_batch = X_batch.to(device).permute(0, 2, 1)\n",
        "        y_batch = y_batch.to(device)\n",
        "\n",
        "        optimizer.zero_grad()\n",
        "        output = model(X_batch).view(-1, 5, 4)\n",
        "        loss = criterion(output, y_batch)\n",
        "        loss.backward()\n",
        "        optimizer.step()\n",
        "        total_loss += loss.item()\n",
        "\n",
        "    avg_train_loss = total_loss / len(train_loader)\n",
        "    train_losses.append(avg_train_loss)\n",
        "\n",
        "    # Validation step\n",
        "    model.eval()\n",
        "    total_val_loss = 0\n",
        "    with torch.no_grad():\n",
        "        for X_batch, y_batch in test_loader:\n",
        "            X_batch = X_batch.to(device).permute(0, 2, 1)\n",
        "            y_batch = y_batch.to(device)\n",
        "\n",
        "            output = model(X_batch).view(-1, 5, 4)\n",
        "            val_loss = criterion(output, y_batch)\n",
        "            total_val_loss += val_loss.item()\n",
        "\n",
        "    avg_val_loss = total_val_loss / len(test_loader)\n",
        "    val_losses.append(avg_val_loss)\n",
        "\n",
        "    if verbose:\n",
        "        print(f\"Epoch {epoch:02d}/{epochs} - Train Loss: {avg_train_loss:.6f} - Val Loss: {avg_val_loss:.6f}\")\n"
      ],
      "metadata": {
        "id": "XDbhPyAU-YUD",
        "outputId": "d0a3a752-8093-4ea8-8258-79456e5ac688",
        "colab": {
          "base_uri": "https://localhost:8080/"
        }
      },
      "id": "XDbhPyAU-YUD",
      "execution_count": 26,
      "outputs": [
        {
          "output_type": "stream",
          "name": "stdout",
          "text": [
            "Epoch 01/20 - Train Loss: 0.008232 - Val Loss: 0.292296\n",
            "Epoch 02/20 - Train Loss: 0.000685 - Val Loss: 0.405088\n",
            "Epoch 03/20 - Train Loss: 0.000579 - Val Loss: 0.515157\n",
            "Epoch 04/20 - Train Loss: 0.000639 - Val Loss: 0.641409\n",
            "Epoch 05/20 - Train Loss: 0.000527 - Val Loss: 0.664459\n",
            "Epoch 06/20 - Train Loss: 0.000565 - Val Loss: 0.892416\n",
            "Epoch 07/20 - Train Loss: 0.000482 - Val Loss: 1.076554\n",
            "Epoch 08/20 - Train Loss: 0.000529 - Val Loss: 1.242596\n",
            "Epoch 09/20 - Train Loss: 0.000506 - Val Loss: 1.676950\n",
            "Epoch 10/20 - Train Loss: 0.000474 - Val Loss: 1.626077\n",
            "Epoch 11/20 - Train Loss: 0.000467 - Val Loss: 1.177692\n",
            "Epoch 12/20 - Train Loss: 0.000458 - Val Loss: 1.284596\n",
            "Epoch 13/20 - Train Loss: 0.000368 - Val Loss: 1.233836\n",
            "Epoch 14/20 - Train Loss: 0.000399 - Val Loss: 1.045865\n",
            "Epoch 15/20 - Train Loss: 0.000401 - Val Loss: 0.929574\n",
            "Epoch 16/20 - Train Loss: 0.000404 - Val Loss: 1.010308\n",
            "Epoch 17/20 - Train Loss: 0.000396 - Val Loss: 0.809321\n",
            "Epoch 18/20 - Train Loss: 0.000376 - Val Loss: 0.492532\n",
            "Epoch 19/20 - Train Loss: 0.000312 - Val Loss: 0.381743\n",
            "Epoch 20/20 - Train Loss: 0.000337 - Val Loss: 0.304174\n"
          ]
        }
      ]
    },
    {
      "cell_type": "code",
      "source": [
        "plt.figure(figsize=(10, 6))\n",
        "plt.plot(train_losses, label='Train Loss')\n",
        "plt.plot(val_losses, label='Validation Loss')\n",
        "plt.title('Training and Validation Loss per Epoch')\n",
        "plt.xlabel('Epoch')\n",
        "plt.ylabel('Loss (MSE)')\n",
        "plt.grid(True)\n",
        "plt.legend()\n",
        "plt.tight_layout()\n",
        "plt.show()\n"
      ],
      "metadata": {
        "id": "5P_kWnU0-YXW",
        "outputId": "77d0c238-5cfd-4f8c-f5ea-039d80cd63ca",
        "colab": {
          "base_uri": "https://localhost:8080/",
          "height": 433
        }
      },
      "id": "5P_kWnU0-YXW",
      "execution_count": 27,
      "outputs": [
        {
          "output_type": "display_data",
          "data": {
            "text/plain": [
              "<Figure size 1000x600 with 1 Axes>"
            ],
            "image/png": "[encoded data removed]"
          },
          "metadata": {}
        }
      ]
    },
    {
      "cell_type": "code",
      "source": [
        "#Mclarenlu warna apa bos?\n",
        "torch.save(model.state_dict(), \"tst_USDCHF5_tanpascale_24Timestep.pt\")\n",
        "print(\"Model saved to 'tst_ohlc_model.pt'\")\n"
      ],
      "metadata": {
        "id": "dQCSwikE-YaR",
        "outputId": "46738455-ebb2-4be6-9466-f6d72290cad8",
        "colab": {
          "base_uri": "https://localhost:8080/"
        }
      },
      "id": "dQCSwikE-YaR",
      "execution_count": 28,
      "outputs": [
        {
          "output_type": "stream",
          "name": "stdout",
          "text": [
            "Model saved to 'tst_ohlc_model.pt'\n"
          ]
        }
      ]
    },
    {
      "cell_type": "code",
      "source": [
        "# Ambil satu sample dari test set\n",
        "sample_input = X_test[0]  # shape: (12, 4)\n",
        "sample_input = torch.tensor(sample_input, dtype=torch.float32).unsqueeze(0)  # (1, 12, 4)\n",
        "sample_input = sample_input.permute(0, 2, 1).to(device)  # jadi (1, 4, 12)\n",
        "\n",
        "# Load model dan jalankan prediksi\n",
        "model.eval()\n",
        "with torch.no_grad():\n",
        "    output = model(sample_input).view(-1, 5, 4).cpu().numpy()  # (1, 5, 4) → (5, 4)\n",
        "\n",
        "# Tampilkan hasil prediksi\n",
        "print(\"Hasil prediksi 5 langkah ke depan (Open, High, Low, Close):\")\n",
        "print(output[0])  # prediksi untuk langkah ke-1\n",
        "print(output)     # semua 5 langkah"
      ],
      "metadata": {
        "id": "xFQD1rV1-h_b",
        "outputId": "9e029eac-b2b0-4dbf-efed-d19df2465440",
        "colab": {
          "base_uri": "https://localhost:8080/"
        }
      },
      "id": "xFQD1rV1-h_b",
      "execution_count": 29,
      "outputs": [
        {
          "output_type": "stream",
          "name": "stdout",
          "text": [
            "Hasil prediksi 5 langkah ke depan (Open, High, Low, Close):\n",
            "[[0.3319108  0.32519203 0.32544664 0.33339578]\n",
            " [0.328451   0.32430622 0.3353527  0.32365343]\n",
            " [0.32702842 0.33371818 0.33746696 0.3267964 ]\n",
            " [0.32443225 0.33218455 0.32430595 0.33808368]\n",
            " [0.33426088 0.32777548 0.32225102 0.3371341 ]]\n",
            "[[[0.3319108  0.32519203 0.32544664 0.33339578]\n",
            "  [0.328451   0.32430622 0.3353527  0.32365343]\n",
            "  [0.32702842 0.33371818 0.33746696 0.3267964 ]\n",
            "  [0.32443225 0.33218455 0.32430595 0.33808368]\n",
            "  [0.33426088 0.32777548 0.32225102 0.3371341 ]]]\n"
          ]
        }
      ]
    },
    {
      "cell_type": "code",
      "source": [],
      "metadata": {
        "id": "DWIX_m66-Yc2"
      },
      "id": "DWIX_m66-Yc2",
      "execution_count": 29,
      "outputs": []
    }
  ],
  "metadata": {
    "accelerator": "GPU",
    "colab": {
      "provenance": []
    },
    "gpuClass": "standard",
    "kernelspec": {
      "display_name": "Python 3 (ipykernel)",
      "language": "python",
      "name": "python3"
    },
    "language_info": {
      "codemirror_mode": {
        "name": "ipython",
        "version": 3
      },
      "file_extension": ".py",
      "mimetype": "text/x-python",
      "name": "python",
      "nbconvert_exporter": "python",
      "pygments_lexer": "ipython3",
      "version": "3.11.6"
    }
  },
  "nbformat": 4,
  "nbformat_minor": 5
}